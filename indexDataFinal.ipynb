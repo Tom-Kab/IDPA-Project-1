{
 "cells": [
  {
   "cell_type": "markdown",
   "metadata": {},
   "source": [
    "# Text To CSV"
   ]
  },
  {
   "cell_type": "code",
   "execution_count": 5,
   "metadata": {},
   "outputs": [
    {
     "data": {
      "text/html": [
       "<div>\n",
       "<style scoped>\n",
       "    .dataframe tbody tr th:only-of-type {\n",
       "        vertical-align: middle;\n",
       "    }\n",
       "\n",
       "    .dataframe tbody tr th {\n",
       "        vertical-align: top;\n",
       "    }\n",
       "\n",
       "    .dataframe thead th {\n",
       "        text-align: right;\n",
       "    }\n",
       "</style>\n",
       "<table border=\"1\" class=\"dataframe\">\n",
       "  <thead>\n",
       "    <tr style=\"text-align: right;\">\n",
       "      <th></th>\n",
       "      <th>0</th>\n",
       "    </tr>\n",
       "  </thead>\n",
       "  <tbody>\n",
       "    <tr>\n",
       "      <th>0</th>\n",
       "      <td>Music and health</td>\n",
       "    </tr>\n",
       "    <tr>\n",
       "      <th>1</th>\n",
       "      <td>September 11, 2021</td>\n",
       "    </tr>\n",
       "    <tr>\n",
       "      <th>2</th>\n",
       "      <td>None</td>\n",
       "    </tr>\n",
       "    <tr>\n",
       "      <th>3</th>\n",
       "      <td>Music is a fundamental attribute of the human ...</td>\n",
       "    </tr>\n",
       "    <tr>\n",
       "      <th>4</th>\n",
       "      <td>None</td>\n",
       "    </tr>\n",
       "    <tr>\n",
       "      <th>5</th>\n",
       "      <td>The human brain and nervous system are hard-wi...</td>\n",
       "    </tr>\n",
       "    <tr>\n",
       "      <th>6</th>\n",
       "      <td>None</td>\n",
       "    </tr>\n",
       "    <tr>\n",
       "      <th>7</th>\n",
       "      <td>Music and the brain</td>\n",
       "    </tr>\n",
       "    <tr>\n",
       "      <th>8</th>\n",
       "      <td>Like any sound, music arrives at the ear in th...</td>\n",
       "    </tr>\n",
       "    <tr>\n",
       "      <th>9</th>\n",
       "      <td>None</td>\n",
       "    </tr>\n",
       "    <tr>\n",
       "      <th>10</th>\n",
       "      <td>The cochlea is a busy little world of its own....</td>\n",
       "    </tr>\n",
       "    <tr>\n",
       "      <th>11</th>\n",
       "      <td>None</td>\n",
       "    </tr>\n",
       "    <tr>\n",
       "      <th>12</th>\n",
       "      <td>From there, things get even more complicated. ...</td>\n",
       "    </tr>\n",
       "    <tr>\n",
       "      <th>13</th>\n",
       "      <td>None</td>\n",
       "    </tr>\n",
       "    <tr>\n",
       "      <th>14</th>\n",
       "      <td>Although every healthy human brain can perform...</td>\n",
       "    </tr>\n",
       "    <tr>\n",
       "      <th>15</th>\n",
       "      <td>None</td>\n",
       "    </tr>\n",
       "    <tr>\n",
       "      <th>16</th>\n",
       "      <td>The neurobiology of music is a highly speciali...</td>\n",
       "    </tr>\n",
       "    <tr>\n",
       "      <th>17</th>\n",
       "      <td>None</td>\n",
       "    </tr>\n",
       "    <tr>\n",
       "      <th>18</th>\n",
       "      <td>Protect yourself from the damage of chronic in...</td>\n",
       "    </tr>\n",
       "    <tr>\n",
       "      <th>19</th>\n",
       "      <td>Science has proven that chronic, low-grade inf...</td>\n",
       "    </tr>\n",
       "    <tr>\n",
       "      <th>20</th>\n",
       "      <td>None</td>\n",
       "    </tr>\n",
       "    <tr>\n",
       "      <th>21</th>\n",
       "      <td>LEARN MORE</td>\n",
       "    </tr>\n",
       "    <tr>\n",
       "      <th>22</th>\n",
       "      <td>View Protect yourself from the damage of chron...</td>\n",
       "    </tr>\n",
       "    <tr>\n",
       "      <th>23</th>\n",
       "      <td>Music and the mind</td>\n",
       "    </tr>\n",
       "    <tr>\n",
       "      <th>24</th>\n",
       "      <td>The most highly publicized mental influence of...</td>\n",
       "    </tr>\n",
       "    <tr>\n",
       "      <th>25</th>\n",
       "      <td>None</td>\n",
       "    </tr>\n",
       "    <tr>\n",
       "      <th>26</th>\n",
       "      <td>How might music enhance cognitive performance?...</td>\n",
       "    </tr>\n",
       "    <tr>\n",
       "      <th>27</th>\n",
       "      <td>None</td>\n",
       "    </tr>\n",
       "    <tr>\n",
       "      <th>28</th>\n",
       "      <td>Music and stress</td>\n",
       "    </tr>\n",
       "    <tr>\n",
       "      <th>29</th>\n",
       "      <td>In every era of human history and in every soc...</td>\n",
       "    </tr>\n",
       "    <tr>\n",
       "      <th>30</th>\n",
       "      <td>None</td>\n",
       "    </tr>\n",
       "    <tr>\n",
       "      <th>31</th>\n",
       "      <td>Few things are more stressful than illness and...</td>\n",
       "    </tr>\n",
       "    <tr>\n",
       "      <th>32</th>\n",
       "      <td>None</td>\n",
       "    </tr>\n",
       "    <tr>\n",
       "      <th>33</th>\n",
       "      <td>A study from New York examined how music affec...</td>\n",
       "    </tr>\n",
       "    <tr>\n",
       "      <th>34</th>\n",
       "      <td>None</td>\n",
       "    </tr>\n",
       "    <tr>\n",
       "      <th>35</th>\n",
       "      <td>A study of 80 patients undergoing urologic sur...</td>\n",
       "    </tr>\n",
       "    <tr>\n",
       "      <th>36</th>\n",
       "      <td>None</td>\n",
       "    </tr>\n",
       "    <tr>\n",
       "      <th>37</th>\n",
       "      <td>In the cataract and urologic surgery studies, ...</td>\n",
       "    </tr>\n",
       "    <tr>\n",
       "      <th>38</th>\n",
       "      <td>None</td>\n",
       "    </tr>\n",
       "    <tr>\n",
       "      <th>39</th>\n",
       "      <td>Neither of the operating room studies specifie...</td>\n",
       "    </tr>\n",
       "    <tr>\n",
       "      <th>40</th>\n",
       "      <td>None</td>\n",
       "    </tr>\n",
       "    <tr>\n",
       "      <th>41</th>\n",
       "      <td>Music and mood</td>\n",
       "    </tr>\n",
       "    <tr>\n",
       "      <th>42</th>\n",
       "      <td>Soothing jangled nerves is one thing; raising ...</td>\n",
       "    </tr>\n",
       "    <tr>\n",
       "      <th>43</th>\n",
       "      <td>None</td>\n",
       "    </tr>\n",
       "    <tr>\n",
       "      <th>44</th>\n",
       "      <td>Music and movement</td>\n",
       "    </tr>\n",
       "    <tr>\n",
       "      <th>45</th>\n",
       "      <td>Falling is a serious medical problem, particul...</td>\n",
       "    </tr>\n",
       "    <tr>\n",
       "      <th>46</th>\n",
       "      <td>None</td>\n",
       "    </tr>\n",
       "    <tr>\n",
       "      <th>47</th>\n",
       "      <td>Maladies of musicians</td>\n",
       "    </tr>\n",
       "    <tr>\n",
       "      <th>48</th>\n",
       "      <td>If there is a link between musicians and medic...</td>\n",
       "    </tr>\n",
       "    <tr>\n",
       "      <th>49</th>\n",
       "      <td>None</td>\n",
       "    </tr>\n",
       "    <tr>\n",
       "      <th>50</th>\n",
       "      <td>The most common problems stem from the repetit...</td>\n",
       "    </tr>\n",
       "    <tr>\n",
       "      <th>51</th>\n",
       "      <td>None</td>\n",
       "    </tr>\n",
       "    <tr>\n",
       "      <th>52</th>\n",
       "      <td>A particularly disabling ailment of highly tra...</td>\n",
       "    </tr>\n",
       "  </tbody>\n",
       "</table>\n",
       "</div>"
      ],
      "text/plain": [
       "                                                    0\n",
       "0                                    Music and health\n",
       "1                                  September 11, 2021\n",
       "2                                                None\n",
       "3   Music is a fundamental attribute of the human ...\n",
       "4                                                None\n",
       "5   The human brain and nervous system are hard-wi...\n",
       "6                                                None\n",
       "7                                 Music and the brain\n",
       "8   Like any sound, music arrives at the ear in th...\n",
       "9                                                None\n",
       "10  The cochlea is a busy little world of its own....\n",
       "11                                               None\n",
       "12  From there, things get even more complicated. ...\n",
       "13                                               None\n",
       "14  Although every healthy human brain can perform...\n",
       "15                                               None\n",
       "16  The neurobiology of music is a highly speciali...\n",
       "17                                               None\n",
       "18  Protect yourself from the damage of chronic in...\n",
       "19  Science has proven that chronic, low-grade inf...\n",
       "20                                               None\n",
       "21                                         LEARN MORE\n",
       "22  View Protect yourself from the damage of chron...\n",
       "23                                 Music and the mind\n",
       "24  The most highly publicized mental influence of...\n",
       "25                                               None\n",
       "26  How might music enhance cognitive performance?...\n",
       "27                                               None\n",
       "28                                   Music and stress\n",
       "29  In every era of human history and in every soc...\n",
       "30                                               None\n",
       "31  Few things are more stressful than illness and...\n",
       "32                                               None\n",
       "33  A study from New York examined how music affec...\n",
       "34                                               None\n",
       "35  A study of 80 patients undergoing urologic sur...\n",
       "36                                               None\n",
       "37  In the cataract and urologic surgery studies, ...\n",
       "38                                               None\n",
       "39  Neither of the operating room studies specifie...\n",
       "40                                               None\n",
       "41                                     Music and mood\n",
       "42  Soothing jangled nerves is one thing; raising ...\n",
       "43                                               None\n",
       "44                                 Music and movement\n",
       "45  Falling is a serious medical problem, particul...\n",
       "46                                               None\n",
       "47                              Maladies of musicians\n",
       "48  If there is a link between musicians and medic...\n",
       "49                                               None\n",
       "50  The most common problems stem from the repetit...\n",
       "51                                               None\n",
       "52  A particularly disabling ailment of highly tra..."
      ]
     },
     "metadata": {},
     "output_type": "display_data"
    },
    {
     "name": "stdout",
     "output_type": "stream",
     "text": [
      "Conversion from input_data/input1.txt to output.csv is complete.\n"
     ]
    }
   ],
   "source": [
    "import csv\n",
    "\n",
    "# Specify the input and output file names\n",
    "input_file = \"input_data/input1.txt\"\n",
    "output_file = \"output.csv\"\n",
    "\n",
    "# Read data from the text file\n",
    "with open(input_file, 'r') as infile:\n",
    "    # Assuming the file is tab-separated, you can use '\\t' as the delimiter\n",
    "    reader = csv.reader(infile, delimiter='\\t')\n",
    "\n",
    "    # Read the rows from the text file\n",
    "    data = list(reader)\n",
    "\n",
    "# Write data to the CSV file\n",
    "with open(output_file, 'w', newline='') as csvfile:\n",
    "    writer = csv.writer(csvfile)\n",
    "\n",
    "    # Write each row to the CSV file\n",
    "    writer.writerows(data)\n",
    "\n",
    "import pandas as pd\n",
    "\n",
    "# Assuming 'data' is a list of rows from the CSV file\n",
    "df = pd.DataFrame(data)\n",
    "display(df)\n",
    "\n",
    "print(f\"Conversion from {input_file} to {output_file} is complete.\")"
   ]
  },
  {
   "cell_type": "code",
   "execution_count": 6,
   "metadata": {},
   "outputs": [
    {
     "name": "stderr",
     "output_type": "stream",
     "text": [
      "C:\\Users\\marca\\AppData\\Local\\Temp\\ipykernel_15048\\593777072.py:28: UserWarning: Could not infer format, so each element will be parsed individually, falling back to `dateutil`. To ensure parsing is consistent and as-expected, please specify a format.\n",
      "  df['Date'] = pd.to_datetime(df['content'], errors='coerce')\n",
      "C:\\Users\\marca\\AppData\\Local\\Temp\\ipykernel_15048\\593777072.py:37: FutureWarning: The 'method' keyword in Series.replace is deprecated and will be removed in a future version.\n",
      "  df['title'] = df['title'].replace('', method='ffill')\n"
     ]
    },
    {
     "data": {
      "text/html": [
       "<div>\n",
       "<style scoped>\n",
       "    .dataframe tbody tr th:only-of-type {\n",
       "        vertical-align: middle;\n",
       "    }\n",
       "\n",
       "    .dataframe tbody tr th {\n",
       "        vertical-align: top;\n",
       "    }\n",
       "\n",
       "    .dataframe thead th {\n",
       "        text-align: right;\n",
       "    }\n",
       "</style>\n",
       "<table border=\"1\" class=\"dataframe\">\n",
       "  <thead>\n",
       "    <tr style=\"text-align: right;\">\n",
       "      <th></th>\n",
       "      <th>content</th>\n",
       "      <th>title</th>\n",
       "      <th>title_article</th>\n",
       "      <th>Date</th>\n",
       "    </tr>\n",
       "  </thead>\n",
       "  <tbody>\n",
       "    <tr>\n",
       "      <th>0</th>\n",
       "      <td>September 11, 2021</td>\n",
       "      <td>Music and health</td>\n",
       "      <td>Music and health</td>\n",
       "      <td>2021-09-11</td>\n",
       "    </tr>\n",
       "    <tr>\n",
       "      <th>1</th>\n",
       "      <td>Music is a fundamental attribute of the human ...</td>\n",
       "      <td>Music and health</td>\n",
       "      <td>Music and health</td>\n",
       "      <td>NaT</td>\n",
       "    </tr>\n",
       "    <tr>\n",
       "      <th>2</th>\n",
       "      <td>The human brain and nervous system are hard-wi...</td>\n",
       "      <td>Music and health</td>\n",
       "      <td>Music and health</td>\n",
       "      <td>NaT</td>\n",
       "    </tr>\n",
       "    <tr>\n",
       "      <th>3</th>\n",
       "      <td>Like any sound, music arrives at the ear in th...</td>\n",
       "      <td>Music and the brain</td>\n",
       "      <td>Music and health</td>\n",
       "      <td>NaT</td>\n",
       "    </tr>\n",
       "    <tr>\n",
       "      <th>4</th>\n",
       "      <td>The cochlea is a busy little world of its own....</td>\n",
       "      <td>Music and the brain</td>\n",
       "      <td>Music and health</td>\n",
       "      <td>NaT</td>\n",
       "    </tr>\n",
       "    <tr>\n",
       "      <th>5</th>\n",
       "      <td>From there, things get even more complicated. ...</td>\n",
       "      <td>Music and the brain</td>\n",
       "      <td>Music and health</td>\n",
       "      <td>NaT</td>\n",
       "    </tr>\n",
       "    <tr>\n",
       "      <th>6</th>\n",
       "      <td>Although every healthy human brain can perform...</td>\n",
       "      <td>Music and the brain</td>\n",
       "      <td>Music and health</td>\n",
       "      <td>NaT</td>\n",
       "    </tr>\n",
       "    <tr>\n",
       "      <th>7</th>\n",
       "      <td>The neurobiology of music is a highly speciali...</td>\n",
       "      <td>Music and the brain</td>\n",
       "      <td>Music and health</td>\n",
       "      <td>NaT</td>\n",
       "    </tr>\n",
       "    <tr>\n",
       "      <th>8</th>\n",
       "      <td>Protect yourself from the damage of chronic in...</td>\n",
       "      <td>Music and the brain</td>\n",
       "      <td>Music and health</td>\n",
       "      <td>NaT</td>\n",
       "    </tr>\n",
       "    <tr>\n",
       "      <th>9</th>\n",
       "      <td>Science has proven that chronic, low-grade inf...</td>\n",
       "      <td>Music and the brain</td>\n",
       "      <td>Music and health</td>\n",
       "      <td>NaT</td>\n",
       "    </tr>\n",
       "    <tr>\n",
       "      <th>10</th>\n",
       "      <td>View Protect yourself from the damage of chron...</td>\n",
       "      <td>LEARN MORE</td>\n",
       "      <td>Music and health</td>\n",
       "      <td>NaT</td>\n",
       "    </tr>\n",
       "    <tr>\n",
       "      <th>11</th>\n",
       "      <td>The most highly publicized mental influence of...</td>\n",
       "      <td>Music and the mind</td>\n",
       "      <td>Music and health</td>\n",
       "      <td>NaT</td>\n",
       "    </tr>\n",
       "    <tr>\n",
       "      <th>12</th>\n",
       "      <td>How might music enhance cognitive performance?...</td>\n",
       "      <td>Music and the mind</td>\n",
       "      <td>Music and health</td>\n",
       "      <td>NaT</td>\n",
       "    </tr>\n",
       "    <tr>\n",
       "      <th>13</th>\n",
       "      <td>In every era of human history and in every soc...</td>\n",
       "      <td>Music and stress</td>\n",
       "      <td>Music and health</td>\n",
       "      <td>NaT</td>\n",
       "    </tr>\n",
       "    <tr>\n",
       "      <th>14</th>\n",
       "      <td>Few things are more stressful than illness and...</td>\n",
       "      <td>Music and stress</td>\n",
       "      <td>Music and health</td>\n",
       "      <td>NaT</td>\n",
       "    </tr>\n",
       "    <tr>\n",
       "      <th>15</th>\n",
       "      <td>A study from New York examined how music affec...</td>\n",
       "      <td>Music and stress</td>\n",
       "      <td>Music and health</td>\n",
       "      <td>NaT</td>\n",
       "    </tr>\n",
       "    <tr>\n",
       "      <th>16</th>\n",
       "      <td>A study of 80 patients undergoing urologic sur...</td>\n",
       "      <td>Music and stress</td>\n",
       "      <td>Music and health</td>\n",
       "      <td>NaT</td>\n",
       "    </tr>\n",
       "    <tr>\n",
       "      <th>17</th>\n",
       "      <td>In the cataract and urologic surgery studies, ...</td>\n",
       "      <td>Music and stress</td>\n",
       "      <td>Music and health</td>\n",
       "      <td>NaT</td>\n",
       "    </tr>\n",
       "    <tr>\n",
       "      <th>18</th>\n",
       "      <td>Neither of the operating room studies specifie...</td>\n",
       "      <td>Music and stress</td>\n",
       "      <td>Music and health</td>\n",
       "      <td>NaT</td>\n",
       "    </tr>\n",
       "    <tr>\n",
       "      <th>19</th>\n",
       "      <td>Soothing jangled nerves is one thing; raising ...</td>\n",
       "      <td>Music and mood</td>\n",
       "      <td>Music and health</td>\n",
       "      <td>NaT</td>\n",
       "    </tr>\n",
       "    <tr>\n",
       "      <th>20</th>\n",
       "      <td>Falling is a serious medical problem, particul...</td>\n",
       "      <td>Music and movement</td>\n",
       "      <td>Music and health</td>\n",
       "      <td>NaT</td>\n",
       "    </tr>\n",
       "    <tr>\n",
       "      <th>21</th>\n",
       "      <td>If there is a link between musicians and medic...</td>\n",
       "      <td>Maladies of musicians</td>\n",
       "      <td>Music and health</td>\n",
       "      <td>NaT</td>\n",
       "    </tr>\n",
       "    <tr>\n",
       "      <th>22</th>\n",
       "      <td>The most common problems stem from the repetit...</td>\n",
       "      <td>Maladies of musicians</td>\n",
       "      <td>Music and health</td>\n",
       "      <td>NaT</td>\n",
       "    </tr>\n",
       "    <tr>\n",
       "      <th>23</th>\n",
       "      <td>A particularly disabling ailment of highly tra...</td>\n",
       "      <td>Maladies of musicians</td>\n",
       "      <td>Music and health</td>\n",
       "      <td>NaT</td>\n",
       "    </tr>\n",
       "  </tbody>\n",
       "</table>\n",
       "</div>"
      ],
      "text/plain": [
       "                                              content                  title  \\\n",
       "0                                  September 11, 2021       Music and health   \n",
       "1   Music is a fundamental attribute of the human ...       Music and health   \n",
       "2   The human brain and nervous system are hard-wi...       Music and health   \n",
       "3   Like any sound, music arrives at the ear in th...    Music and the brain   \n",
       "4   The cochlea is a busy little world of its own....    Music and the brain   \n",
       "5   From there, things get even more complicated. ...    Music and the brain   \n",
       "6   Although every healthy human brain can perform...    Music and the brain   \n",
       "7   The neurobiology of music is a highly speciali...    Music and the brain   \n",
       "8   Protect yourself from the damage of chronic in...    Music and the brain   \n",
       "9   Science has proven that chronic, low-grade inf...    Music and the brain   \n",
       "10  View Protect yourself from the damage of chron...             LEARN MORE   \n",
       "11  The most highly publicized mental influence of...     Music and the mind   \n",
       "12  How might music enhance cognitive performance?...     Music and the mind   \n",
       "13  In every era of human history and in every soc...       Music and stress   \n",
       "14  Few things are more stressful than illness and...       Music and stress   \n",
       "15  A study from New York examined how music affec...       Music and stress   \n",
       "16  A study of 80 patients undergoing urologic sur...       Music and stress   \n",
       "17  In the cataract and urologic surgery studies, ...       Music and stress   \n",
       "18  Neither of the operating room studies specifie...       Music and stress   \n",
       "19  Soothing jangled nerves is one thing; raising ...         Music and mood   \n",
       "20  Falling is a serious medical problem, particul...     Music and movement   \n",
       "21  If there is a link between musicians and medic...  Maladies of musicians   \n",
       "22  The most common problems stem from the repetit...  Maladies of musicians   \n",
       "23  A particularly disabling ailment of highly tra...  Maladies of musicians   \n",
       "\n",
       "       title_article       Date  \n",
       "0   Music and health 2021-09-11  \n",
       "1   Music and health        NaT  \n",
       "2   Music and health        NaT  \n",
       "3   Music and health        NaT  \n",
       "4   Music and health        NaT  \n",
       "5   Music and health        NaT  \n",
       "6   Music and health        NaT  \n",
       "7   Music and health        NaT  \n",
       "8   Music and health        NaT  \n",
       "9   Music and health        NaT  \n",
       "10  Music and health        NaT  \n",
       "11  Music and health        NaT  \n",
       "12  Music and health        NaT  \n",
       "13  Music and health        NaT  \n",
       "14  Music and health        NaT  \n",
       "15  Music and health        NaT  \n",
       "16  Music and health        NaT  \n",
       "17  Music and health        NaT  \n",
       "18  Music and health        NaT  \n",
       "19  Music and health        NaT  \n",
       "20  Music and health        NaT  \n",
       "21  Music and health        NaT  \n",
       "22  Music and health        NaT  \n",
       "23  Music and health        NaT  "
      ]
     },
     "metadata": {},
     "output_type": "display_data"
    },
    {
     "name": "stdout",
     "output_type": "stream",
     "text": [
      "Conversion from input_data/input1.txt to output.csv is complete.\n"
     ]
    }
   ],
   "source": [
    "import csv\n",
    "import pandas as pd\n",
    "import numpy as np\n",
    "\n",
    "# Specify the input and output file names\n",
    "input_file = \"input_data/input1.txt\"\n",
    "output_file = \"output.csv\"\n",
    "\n",
    "# Read data from the text file\n",
    "with open(input_file, 'r') as infile:\n",
    "    # Assuming the file is tab-separated, you can use '\\t' as the delimiter\n",
    "    reader = csv.reader(infile, delimiter='\\t')\n",
    "\n",
    "    # Read the rows from the text file\n",
    "    data = list(reader)\n",
    "\n",
    "\n",
    "## Create a DataFrame from the data and name the first column as \"content\"\n",
    "df = pd.DataFrame(data, columns=['content'] + [f'Column_{i}' for i in range(1, len(data[0]))])\n",
    "\n",
    "# Extract and store the first line as \"title\" if its length is less than 30\n",
    "df['title'] = df.apply(lambda row: row['content'] if (row['content'] is not None and len(row['content']) < 50) else '', axis=1)\n",
    "\n",
    "# Use the extracted title for every row in the 'title_article' column\n",
    "df['title_article'] = df['title'].iloc[0]\n",
    "\n",
    "# Extract and store the date from column 0 if it is a valid date\n",
    "df['Date'] = pd.to_datetime(df['content'], errors='coerce')\n",
    "\n",
    "# Replace the \"title\" with the actual title where a date is found\n",
    "df.loc[df['Date'].notnull(), 'title'] = ''\n",
    "\n",
    "# Replace the \"title\" with the actual title where a date is found\n",
    "# .loc[df['Date'].notnull(), 'title'] = df['content']\n",
    "\n",
    "# Forward fill null values in the \"title\" column\n",
    "df['title'] = df['title'].replace('', method='ffill')\n",
    "\n",
    "# Drop rows with null values in the \"content\" column\n",
    "df = df.dropna(subset=['content'])\n",
    "\n",
    "# Drop rows where \"content\" and \"title\" columns have the same values\n",
    "df = df[df['content'] != df['title']]\n",
    "\n",
    "df.reset_index(drop=True, inplace=True)\n",
    "\n",
    "# Save the DataFrame to a CSV file\n",
    "df.to_csv(output_file, index=True, header=True)  # Adjust parameters as needed\n",
    "\n",
    "# Display the DataFrame\n",
    "display(df)\n",
    "\n",
    "print(f\"Conversion from {input_file} to {output_file} is complete.\")"
   ]
  },
  {
   "cell_type": "code",
   "execution_count": 7,
   "metadata": {},
   "outputs": [
    {
     "name": "stdout",
     "output_type": "stream",
     "text": [
      "Conversion from input1.txt to output_data\\output_input1.csv is complete.\n",
      "Conversion from input2.txt to output_data\\output_input2.csv is complete.\n",
      "Conversion from input3.txt to output_data\\output_input3.csv is complete.\n",
      "Conversion from input4.txt to output_data\\output_input4.csv is complete.\n"
     ]
    }
   ],
   "source": [
    "import csv\n",
    "import pandas as pd\n",
    "import os\n",
    "\n",
    "# Specify the input and output directory\n",
    "input_directory = \"input_data\"\n",
    "output_directory = \"output_data\"\n",
    "\n",
    "# List all text files in the input directory\n",
    "input_files = [f for f in os.listdir(input_directory) if f.endswith('.txt')]\n",
    "\n",
    "# Loop over each input file\n",
    "for input_file in input_files:\n",
    "    # Construct the full path for input and output files\n",
    "    input_path = os.path.join(input_directory, input_file)\n",
    "    output_file = os.path.join(output_directory, f\"output_{os.path.splitext(input_file)[0]}.csv\")\n",
    "\n",
    "    # Read data from the text file\n",
    "    with open(input_path, 'r', encoding=\"utf8\") as infile:\n",
    "        # Assuming the file is tab-separated, you can use '\\t' as the delimiter\n",
    "        reader = csv.reader(infile, delimiter='\\t')\n",
    "\n",
    "        # Read the rows from the text file\n",
    "        data = list(reader)\n",
    "\n",
    "    ## Create a DataFrame from the data and name the first column as \"content\"\n",
    "    df = pd.DataFrame(data, columns=['content'] + [f'Column_{i}' for i in range(1, len(data[0]))])\n",
    "\n",
    "    # Extract and store the first line as \"title\" if its length is less than 40\n",
    "    df['title'] = df.apply(lambda row: row['content'] if (row['content'] is not None and len(row['content']) < 40) else '', axis=1)\n",
    "\n",
    "    # Use the extracted title for every row in the 'title_article' column\n",
    "    df['title_article'] = df['title'].iloc[0]\n",
    "\n",
    "    # Extract and store the date from column 0 if it is a valid date\n",
    "    df['Date'] = pd.to_datetime(df['content'], format=\"%d/%m/%Y\", errors='coerce')\n",
    "\n",
    "    # Replace the \"title\" with the actual title where a date is found\n",
    "    df.loc[df['Date'].notnull(), 'title'] = ''\n",
    "\n",
    "    # Forward fill null values in the \"title\" column\n",
    "    df['title'] = df['title'].replace('', None).ffill()\n",
    "\n",
    "    # Drop rows with null values in the \"content\" column\n",
    "    df = df.dropna(subset=['content'])\n",
    "\n",
    "    # Drop rows where \"content\" and \"title\" columns have the same values\n",
    "    df = df[df['content'] != df['title']]\n",
    "\n",
    "    df.reset_index(drop=True, inplace=True)\n",
    "\n",
    "    # Save the DataFrame to a CSV file\n",
    "    df.to_csv(output_file, index=True, header=True)  # Adjust parameters as needed\n",
    "\n",
    "    print(f\"Conversion from {input_file} to {output_file} is complete.\")"
   ]
  },
  {
   "cell_type": "code",
   "execution_count": 8,
   "metadata": {},
   "outputs": [
    {
     "name": "stdout",
     "output_type": "stream",
     "text": [
      "Combination of CSV files is complete. Output saved to combined_output.csv.\n"
     ]
    },
    {
     "data": {
      "text/html": [
       "<div>\n",
       "<style scoped>\n",
       "    .dataframe tbody tr th:only-of-type {\n",
       "        vertical-align: middle;\n",
       "    }\n",
       "\n",
       "    .dataframe tbody tr th {\n",
       "        vertical-align: top;\n",
       "    }\n",
       "\n",
       "    .dataframe thead th {\n",
       "        text-align: right;\n",
       "    }\n",
       "</style>\n",
       "<table border=\"1\" class=\"dataframe\">\n",
       "  <thead>\n",
       "    <tr style=\"text-align: right;\">\n",
       "      <th></th>\n",
       "      <th>Unnamed: 0</th>\n",
       "      <th>content</th>\n",
       "      <th>title</th>\n",
       "      <th>title_article</th>\n",
       "      <th>Date</th>\n",
       "    </tr>\n",
       "  </thead>\n",
       "  <tbody>\n",
       "    <tr>\n",
       "      <th>0</th>\n",
       "      <td>0</td>\n",
       "      <td>In 2009, archaeologists excavating a cave in s...</td>\n",
       "      <td>Takeaway</td>\n",
       "      <td>The Benefits of Listening to Music</td>\n",
       "      <td>NaN</td>\n",
       "    </tr>\n",
       "    <tr>\n",
       "      <th>1</th>\n",
       "      <td>1</td>\n",
       "      <td>Although we can’t be sure exactly when human b...</td>\n",
       "      <td>Takeaway</td>\n",
       "      <td>The Benefits of Listening to Music</td>\n",
       "      <td>NaN</td>\n",
       "    </tr>\n",
       "    <tr>\n",
       "      <th>2</th>\n",
       "      <td>2</td>\n",
       "      <td>ResearchersTrusted Source think one of the mos...</td>\n",
       "      <td>Music connects us</td>\n",
       "      <td>The Benefits of Listening to Music</td>\n",
       "      <td>NaN</td>\n",
       "    </tr>\n",
       "    <tr>\n",
       "      <th>3</th>\n",
       "      <td>3</td>\n",
       "      <td>Evolutionary scientists say human beings may h...</td>\n",
       "      <td>Music connects us</td>\n",
       "      <td>The Benefits of Listening to Music</td>\n",
       "      <td>NaN</td>\n",
       "    </tr>\n",
       "    <tr>\n",
       "      <th>4</th>\n",
       "      <td>4</td>\n",
       "      <td>Music remains a powerful way of uniting people:</td>\n",
       "      <td>Music connects us</td>\n",
       "      <td>The Benefits of Listening to Music</td>\n",
       "      <td>NaN</td>\n",
       "    </tr>\n",
       "    <tr>\n",
       "      <th>5</th>\n",
       "      <td>5</td>\n",
       "      <td>national anthems connect crowds at sporting ev...</td>\n",
       "      <td>Music connects us</td>\n",
       "      <td>The Benefits of Listening to Music</td>\n",
       "      <td>NaN</td>\n",
       "    </tr>\n",
       "    <tr>\n",
       "      <th>6</th>\n",
       "      <td>6</td>\n",
       "      <td>protest songs stir a sense of shared purpose d...</td>\n",
       "      <td>Music connects us</td>\n",
       "      <td>The Benefits of Listening to Music</td>\n",
       "      <td>NaN</td>\n",
       "    </tr>\n",
       "    <tr>\n",
       "      <th>7</th>\n",
       "      <td>7</td>\n",
       "      <td>hymns build group identity in houses of worship</td>\n",
       "      <td>Music connects us</td>\n",
       "      <td>The Benefits of Listening to Music</td>\n",
       "      <td>NaN</td>\n",
       "    </tr>\n",
       "    <tr>\n",
       "      <th>8</th>\n",
       "      <td>8</td>\n",
       "      <td>love songs help prospective partners bond duri...</td>\n",
       "      <td>Music connects us</td>\n",
       "      <td>The Benefits of Listening to Music</td>\n",
       "      <td>NaN</td>\n",
       "    </tr>\n",
       "    <tr>\n",
       "      <th>9</th>\n",
       "      <td>9</td>\n",
       "      <td>lullabies enable parents and infants to develo...</td>\n",
       "      <td>Music connects us</td>\n",
       "      <td>The Benefits of Listening to Music</td>\n",
       "      <td>NaN</td>\n",
       "    </tr>\n",
       "  </tbody>\n",
       "</table>\n",
       "</div>"
      ],
      "text/plain": [
       "   Unnamed: 0                                            content  \\\n",
       "0           0  In 2009, archaeologists excavating a cave in s...   \n",
       "1           1  Although we can’t be sure exactly when human b...   \n",
       "2           2  ResearchersTrusted Source think one of the mos...   \n",
       "3           3  Evolutionary scientists say human beings may h...   \n",
       "4           4    Music remains a powerful way of uniting people:   \n",
       "5           5  national anthems connect crowds at sporting ev...   \n",
       "6           6  protest songs stir a sense of shared purpose d...   \n",
       "7           7    hymns build group identity in houses of worship   \n",
       "8           8  love songs help prospective partners bond duri...   \n",
       "9           9  lullabies enable parents and infants to develo...   \n",
       "\n",
       "               title                       title_article  Date  \n",
       "0           Takeaway  The Benefits of Listening to Music   NaN  \n",
       "1           Takeaway  The Benefits of Listening to Music   NaN  \n",
       "2  Music connects us  The Benefits of Listening to Music   NaN  \n",
       "3  Music connects us  The Benefits of Listening to Music   NaN  \n",
       "4  Music connects us  The Benefits of Listening to Music   NaN  \n",
       "5  Music connects us  The Benefits of Listening to Music   NaN  \n",
       "6  Music connects us  The Benefits of Listening to Music   NaN  \n",
       "7  Music connects us  The Benefits of Listening to Music   NaN  \n",
       "8  Music connects us  The Benefits of Listening to Music   NaN  \n",
       "9  Music connects us  The Benefits of Listening to Music   NaN  "
      ]
     },
     "execution_count": 8,
     "metadata": {},
     "output_type": "execute_result"
    }
   ],
   "source": [
    "import pandas as pd\n",
    "import os\n",
    "\n",
    "# Specify the input and output directory\n",
    "input_directory = \"output_data\"\n",
    "output_file = \"combined_output.csv\"\n",
    "\n",
    "# List all CSV files in the input directory\n",
    "csv_files = [f for f in os.listdir(input_directory) if f.endswith('.csv')]\n",
    "\n",
    "# Initialize an empty DataFrame to store the combined data\n",
    "combined_df = pd.DataFrame()\n",
    "\n",
    "# Loop over each CSV file\n",
    "for csv_file in csv_files:\n",
    "    # Construct the full path for the CSV file\n",
    "    csv_path = os.path.join(input_directory, csv_file)\n",
    "\n",
    "    # Read the CSV file into a DataFrame\n",
    "    df = pd.read_csv(csv_path)\n",
    "\n",
    "    # Append the DataFrame to the combined DataFrame\n",
    "    combined_df = combined_df._append(df, ignore_index=True)\n",
    "\n",
    "# Save the combined DataFrame to a new CSV file\n",
    "combined_df.to_csv(output_file, index=False)\n",
    "\n",
    "print(f\"Combination of CSV files is complete. Output saved to {output_file}.\")\n",
    "\n",
    "df.head(10)"
   ]
  },
  {
   "cell_type": "markdown",
   "metadata": {},
   "source": [
    "# Main Elastic Search Code"
   ]
  },
  {
   "cell_type": "code",
   "execution_count": 9,
   "metadata": {},
   "outputs": [],
   "source": [
    "from elasticsearch import Elasticsearch\n",
    "import certifi"
   ]
  },
  {
   "cell_type": "code",
   "execution_count": 10,
   "metadata": {},
   "outputs": [
    {
     "data": {
      "text/plain": [
       "True"
      ]
     },
     "execution_count": 10,
     "metadata": {},
     "output_type": "execute_result"
    }
   ],
   "source": [
    "es = Elasticsearch(\n",
    "    \"http://localhost:9200\",\n",
    "    basic_auth=(\"IDPA\",\"project1\"),\n",
    ")\n",
    "es.ping()"
   ]
  },
  {
   "cell_type": "markdown",
   "metadata": {},
   "source": [
    "## Prepare the data"
   ]
  },
  {
   "cell_type": "code",
   "execution_count": 11,
   "metadata": {},
   "outputs": [
    {
     "data": {
      "text/html": [
       "<div>\n",
       "<style scoped>\n",
       "    .dataframe tbody tr th:only-of-type {\n",
       "        vertical-align: middle;\n",
       "    }\n",
       "\n",
       "    .dataframe tbody tr th {\n",
       "        vertical-align: top;\n",
       "    }\n",
       "\n",
       "    .dataframe thead th {\n",
       "        text-align: right;\n",
       "    }\n",
       "</style>\n",
       "<table border=\"1\" class=\"dataframe\">\n",
       "  <thead>\n",
       "    <tr style=\"text-align: right;\">\n",
       "      <th></th>\n",
       "      <th>Unnamed: 0</th>\n",
       "      <th>content</th>\n",
       "      <th>title</th>\n",
       "      <th>title_article</th>\n",
       "      <th>Date</th>\n",
       "    </tr>\n",
       "  </thead>\n",
       "  <tbody>\n",
       "    <tr>\n",
       "      <th>0</th>\n",
       "      <td>0</td>\n",
       "      <td>Music is a fundamental attribute of the human ...</td>\n",
       "      <td>September 11, 2021</td>\n",
       "      <td>Music and health</td>\n",
       "      <td>NaN</td>\n",
       "    </tr>\n",
       "    <tr>\n",
       "      <th>1</th>\n",
       "      <td>1</td>\n",
       "      <td>The human brain and nervous system are hard-wi...</td>\n",
       "      <td>September 11, 2021</td>\n",
       "      <td>Music and health</td>\n",
       "      <td>NaN</td>\n",
       "    </tr>\n",
       "    <tr>\n",
       "      <th>2</th>\n",
       "      <td>2</td>\n",
       "      <td>Like any sound, music arrives at the ear in th...</td>\n",
       "      <td>Music and the brain</td>\n",
       "      <td>Music and health</td>\n",
       "      <td>NaN</td>\n",
       "    </tr>\n",
       "    <tr>\n",
       "      <th>3</th>\n",
       "      <td>3</td>\n",
       "      <td>The cochlea is a busy little world of its own....</td>\n",
       "      <td>Music and the brain</td>\n",
       "      <td>Music and health</td>\n",
       "      <td>NaN</td>\n",
       "    </tr>\n",
       "    <tr>\n",
       "      <th>4</th>\n",
       "      <td>4</td>\n",
       "      <td>From there, things get even more complicated. ...</td>\n",
       "      <td>Music and the brain</td>\n",
       "      <td>Music and health</td>\n",
       "      <td>NaN</td>\n",
       "    </tr>\n",
       "  </tbody>\n",
       "</table>\n",
       "</div>"
      ],
      "text/plain": [
       "   Unnamed: 0                                            content  \\\n",
       "0           0  Music is a fundamental attribute of the human ...   \n",
       "1           1  The human brain and nervous system are hard-wi...   \n",
       "2           2  Like any sound, music arrives at the ear in th...   \n",
       "3           3  The cochlea is a busy little world of its own....   \n",
       "4           4  From there, things get even more complicated. ...   \n",
       "\n",
       "                 title     title_article  Date  \n",
       "0   September 11, 2021  Music and health   NaN  \n",
       "1   September 11, 2021  Music and health   NaN  \n",
       "2  Music and the brain  Music and health   NaN  \n",
       "3  Music and the brain  Music and health   NaN  \n",
       "4  Music and the brain  Music and health   NaN  "
      ]
     },
     "execution_count": 11,
     "metadata": {},
     "output_type": "execute_result"
    }
   ],
   "source": [
    "import pandas as pd\n",
    "\n",
    "df = pd.read_csv(\"combined_output.csv\").loc[:499]\n",
    "df.head()"
   ]
  },
  {
   "cell_type": "code",
   "execution_count": 12,
   "metadata": {},
   "outputs": [
    {
     "data": {
      "text/plain": [
       "Unnamed: 0  content  title  title_article  Date\n",
       "False       False    False  False          True    147\n",
       "Name: count, dtype: int64"
      ]
     },
     "execution_count": 12,
     "metadata": {},
     "output_type": "execute_result"
    }
   ],
   "source": [
    "df.isna().value_counts()"
   ]
  },
  {
   "cell_type": "code",
   "execution_count": 13,
   "metadata": {},
   "outputs": [
    {
     "name": "stderr",
     "output_type": "stream",
     "text": [
      "C:\\Users\\marca\\AppData\\Local\\Temp\\ipykernel_15048\\3777244692.py:1: FutureWarning: Setting an item of incompatible dtype is deprecated and will raise in a future error of pandas. Value 'None' has dtype incompatible with float64, please explicitly cast to a compatible dtype first.\n",
      "  df.fillna(\"None\", inplace=True)\n"
     ]
    }
   ],
   "source": [
    "df.fillna(\"None\", inplace=True)"
   ]
  },
  {
   "cell_type": "markdown",
   "metadata": {},
   "source": [
    "## Tokenizing keywords"
   ]
  },
  {
   "cell_type": "code",
   "execution_count": 14,
   "metadata": {},
   "outputs": [
    {
     "name": "stdout",
     "output_type": "stream",
     "text": [
      "Requirement already satisfied: nltk in d:\\lau\\courses\\year 4 5th year\\fall 2023\\coe 543 idpa\\project_1\\venv\\lib\\site-packages (3.8.1)Note: you may need to restart the kernel to use updated packages.\n",
      "\n",
      "Requirement already satisfied: click in d:\\lau\\courses\\year 4 5th year\\fall 2023\\coe 543 idpa\\project_1\\venv\\lib\\site-packages (from nltk) (8.1.7)\n",
      "Requirement already satisfied: joblib in d:\\lau\\courses\\year 4 5th year\\fall 2023\\coe 543 idpa\\project_1\\venv\\lib\\site-packages (from nltk) (1.3.2)\n",
      "Requirement already satisfied: regex>=2021.8.3 in d:\\lau\\courses\\year 4 5th year\\fall 2023\\coe 543 idpa\\project_1\\venv\\lib\\site-packages (from nltk) (2023.10.3)\n",
      "Requirement already satisfied: tqdm in d:\\lau\\courses\\year 4 5th year\\fall 2023\\coe 543 idpa\\project_1\\venv\\lib\\site-packages (from nltk) (4.66.1)\n",
      "Requirement already satisfied: colorama in d:\\lau\\courses\\year 4 5th year\\fall 2023\\coe 543 idpa\\project_1\\venv\\lib\\site-packages (from click->nltk) (0.4.6)\n"
     ]
    }
   ],
   "source": [
    "%pip install nltk"
   ]
  },
  {
   "cell_type": "code",
   "execution_count": 15,
   "metadata": {},
   "outputs": [],
   "source": [
    "from __future__ import division\n",
    "import nltk, re, pprint\n",
    "from nltk import word_tokenize"
   ]
  },
  {
   "cell_type": "code",
   "execution_count": 16,
   "metadata": {},
   "outputs": [
    {
     "name": "stderr",
     "output_type": "stream",
     "text": [
      "[nltk_data] Error loading punkt: <urlopen error [Errno 11001]\n",
      "[nltk_data]     getaddrinfo failed>\n",
      "[nltk_data] Downloading package stopwords to\n",
      "[nltk_data]     C:\\Users\\marca\\AppData\\Roaming\\nltk_data...\n",
      "[nltk_data]   Package stopwords is already up-to-date!\n"
     ]
    },
    {
     "data": {
      "text/plain": [
       "True"
      ]
     },
     "execution_count": 16,
     "metadata": {},
     "output_type": "execute_result"
    }
   ],
   "source": [
    "nltk.download('punkt')\n",
    "nltk.download('stopwords')"
   ]
  },
  {
   "cell_type": "code",
   "execution_count": 17,
   "metadata": {},
   "outputs": [
    {
     "name": "stdout",
     "output_type": "stream",
     "text": [
      "{'been', 'between', 'whom', 'any', 'once', 'my', 'our', 'up', 'until', \"mightn't\", 'he', 'each', 'who', 'at', 's', 'or', 'shan', 'her', 'his', 'if', 'for', \"mustn't\", \"you'd\", 'how', 't', 'over', 'to', 'only', 'not', 'its', 'she', 'them', 'nor', 'too', 'wasn', \"it's\", 'him', 're', 'hers', 'itself', 'other', 'it', 'o', 'ma', 'we', 'couldn', 'against', 'very', 'such', \"that'll\", 'why', \"she's\", \"you're\", 'both', 'haven', \"don't\", 'they', 'than', 'had', 'needn', 'himself', 'a', 'on', \"hadn't\", \"shan't\", 'about', 'out', \"isn't\", 'into', 'some', 'as', 'doing', 'm', 'aren', 'yourselves', 'off', 'should', 'mustn', 'hasn', 'were', \"aren't\", 'mightn', 'ain', 'what', 'have', 'ourselves', 'hadn', 'does', 'having', \"needn't\", 'most', 'yours', 'few', 'and', 'after', 'wouldn', 'during', \"shouldn't\", \"doesn't\", 'an', 'did', 'y', \"wasn't\", 've', 'again', \"should've\", 'because', 'before', 'in', 'didn', 'from', 'same', 'are', 'me', 'that', 'which', 'isn', \"weren't\", 'this', 'so', 'while', 'shouldn', \"you'll\", 'll', 'the', 'weren', 'no', 'their', \"didn't\", \"won't\", 'can', 'won', 'am', 'when', 'where', 'yourself', 'but', 'herself', 'is', 'further', 'i', 'those', 'do', 'd', 'through', 'above', 'your', 'you', 'below', 'with', 'here', 'there', 'by', 'was', 'own', 'of', 'all', 'will', \"haven't\", 'ours', 'these', 'doesn', 'under', 'more', 'themselves', 'don', \"you've\", \"wouldn't\", 'just', \"couldn't\", 'theirs', 'myself', 'then', 'down', 'being', \"hasn't\", 'now', 'has', 'be'}\n"
     ]
    }
   ],
   "source": [
    "from nltk.corpus import stopwords\n",
    "\n",
    "stop_words = set(stopwords.words('english'))\n",
    "custom_stopwords = [\",\", \".\", \";\", \":\", \"#\", \"]\", \"[\", \"*\", \"'\", '\"', '’', '“', '”', '(', ')']\n",
    "\n",
    "print(stop_words)"
   ]
  },
  {
   "cell_type": "code",
   "execution_count": 18,
   "metadata": {},
   "outputs": [
    {
     "name": "stdout",
     "output_type": "stream",
     "text": [
      "     Unnamed: 0                                            content  \\\n",
      "0             0  Music is a fundamental attribute of the human ...   \n",
      "1             1  The human brain and nervous system are hard-wi...   \n",
      "2             2  Like any sound, music arrives at the ear in th...   \n",
      "3             3  The cochlea is a busy little world of its own....   \n",
      "4             4  From there, things get even more complicated. ...   \n",
      "..          ...                                                ...   \n",
      "142          42  Specially trained music therapists use music t...   \n",
      "143          43  The American Music Therapy Association describ...   \n",
      "144          44  Music exerts a powerful influence on human bei...   \n",
      "145          45  Working with a music therapist is one effectiv...   \n",
      "146          46           Last medically reviewed on April 1, 2020   \n",
      "\n",
      "                       title                       title_article  Date  \\\n",
      "0         September 11, 2021                    Music and health   NaN   \n",
      "1         September 11, 2021                    Music and health   NaN   \n",
      "2        Music and the brain                    Music and health   NaN   \n",
      "3        Music and the brain                    Music and health   NaN   \n",
      "4        Music and the brain                    Music and health   NaN   \n",
      "..                       ...                                 ...   ...   \n",
      "142  It can help manage pain  The Benefits of Listening to Music   NaN   \n",
      "143      About music therapy  The Benefits of Listening to Music   NaN   \n",
      "144             The takeaway  The Benefits of Listening to Music   NaN   \n",
      "145             The takeaway  The Benefits of Listening to Music   NaN   \n",
      "146             The takeaway  The Benefits of Listening to Music   NaN   \n",
      "\n",
      "                                          stemmed_text  \\\n",
      "0    [music, fundament, attribut, human, speci, vir...   \n",
      "1    [human, brain, nervous, system, hard-wir, dist...   \n",
      "2    [like, sound, music, arriv, ear, form, sound, ...   \n",
      "3    [cochlea, busi, littl, world, fill, fluid, sur...   \n",
      "4    [thing, get, even, complic, studi, use, mri, p...   \n",
      "..                                                 ...   \n",
      "142  [special, train, music, therapist, use, music,...   \n",
      "143  [american, music, therapi, associ, describ, mu...   \n",
      "144  [music, exert, power, influenc, human, be, boo...   \n",
      "145  [work, music, therapist, one, effect, way, tak...   \n",
      "146  [last, medic, review, april, 1, 2020, takeaway...   \n",
      "\n",
      "                                        stemmed_string  \n",
      "0    music fundament attribut human speci virtual c...  \n",
      "1    human brain nervous system hard-wir distinguis...  \n",
      "2    like sound music arriv ear form sound wave ext...  \n",
      "3    cochlea busi littl world fill fluid surround 1...  \n",
      "4    thing get even complic studi use mri positron ...  \n",
      "..                                                 ...  \n",
      "142  special train music therapist use music help a...  \n",
      "143  american music therapi associ describ music th...  \n",
      "144  music exert power influenc human be boost memo...  \n",
      "145  work music therapist one effect way take advan...  \n",
      "146  last medic review april 1 2020 takeaway benefi...  \n",
      "\n",
      "[147 rows x 7 columns]\n"
     ]
    }
   ],
   "source": [
    "import pandas as pd\n",
    "from nltk.tokenize import word_tokenize\n",
    "from nltk.corpus import stopwords\n",
    "from nltk.stem import SnowballStemmer\n",
    "\n",
    "# Load combined_output CSV file from the previous part\n",
    "df = pd.read_csv('combined_output.csv')\n",
    "\n",
    "# List of columns to tokenize\n",
    "columns_to_tokenize = ['content', 'title', 'title_article']\n",
    "\n",
    "# Concatenate the text from selected columns into a single series\n",
    "combined_columns = df[columns_to_tokenize].apply(lambda row: ' '.join(row.dropna().astype(str)), axis=1)\n",
    "\n",
    "# Tokenize the combined text\n",
    "tokens = combined_columns.apply(word_tokenize)\n",
    "\n",
    "# Optionally, you can remove stopwords\n",
    "stop_words = set(stopwords.words('english'))\n",
    "\n",
    "if custom_stopwords:\n",
    "        stop_words.update(custom_stopwords)\n",
    "        \n",
    "filtered_tokens = tokens.apply(lambda token_list: [word for word in token_list if word.lower() not in stop_words])\n",
    "\n",
    "# Create a Snowball stemmer\n",
    "stemmer = SnowballStemmer(\"english\")\n",
    "\n",
    "# Apply stemming to each token in the list\n",
    "stemmed_tokens = filtered_tokens.apply(lambda token_list: [stemmer.stem(word) for word in token_list])\n",
    "\n",
    "# Add a new column 'stemmed_text' to the DataFrame\n",
    "df['stemmed_text'] = stemmed_tokens\n",
    "\n",
    "# Convert the 'stemmed_text' column of lists into a string\n",
    "df['stemmed_string'] = df['stemmed_text'].apply(lambda x: ' '.join(map(str, x)))\n",
    "\n",
    "print(df)"
   ]
  },
  {
   "cell_type": "code",
   "execution_count": 19,
   "metadata": {},
   "outputs": [],
   "source": [
    "from nltk.stem import SnowballStemmer\n",
    "\n",
    "class IndexedText(object):\n",
    "\n",
    "    def __init__(self, language, text):\n",
    "        self._text = text\n",
    "        self._stemmer = SnowballStemmer(language)\n",
    "        self._index = nltk.Index((self._stem(word), i)\n",
    "                                 for (i, word) in enumerate(text))\n",
    "    def concordance(self, word, width=40):\n",
    "        key = self._stem(word)\n",
    "        wc = int(width/4)                # words of context\n",
    "        for i in self._index[key]:\n",
    "            lcontext = ' '.join(self._text[i-wc:i])\n",
    "            rcontext = ' '.join(self._text[i:i+wc])\n",
    "            ldisplay = '{:>{width}}'.format(lcontext[-width:], width=width)\n",
    "            rdisplay = '{:{width}}'.format(rcontext[:width], width=width)\n",
    "            print(ldisplay, rdisplay)\n",
    "\n",
    "    def _stem(self, word):\n",
    "        return self._stemmer.stem(word).lower()"
   ]
  },
  {
   "cell_type": "markdown",
   "metadata": {},
   "source": [
    "## Convert the relevant field to Vector using BERT model\n"
   ]
  },
  {
   "cell_type": "code",
   "execution_count": 20,
   "metadata": {},
   "outputs": [
    {
     "name": "stderr",
     "output_type": "stream",
     "text": [
      "d:\\LAU\\Courses\\Year 4 5th Year\\Fall 2023\\COE 543 IDPA\\Project_1\\venv\\lib\\site-packages\\tqdm\\auto.py:21: TqdmWarning: IProgress not found. Please update jupyter and ipywidgets. See https://ipywidgets.readthedocs.io/en/stable/user_install.html\n",
      "  from .autonotebook import tqdm as notebook_tqdm\n"
     ]
    }
   ],
   "source": [
    "from sentence_transformers import SentenceTransformer\n",
    "model = SentenceTransformer('all-mpnet-base-v2')"
   ]
  },
  {
   "cell_type": "code",
   "execution_count": 21,
   "metadata": {},
   "outputs": [],
   "source": [
    "df[\"ContentVector\"] = df[\"stemmed_string\"].apply(lambda x: model.encode(x))"
   ]
  },
  {
   "cell_type": "code",
   "execution_count": 22,
   "metadata": {},
   "outputs": [
    {
     "data": {
      "text/html": [
       "<div>\n",
       "<style scoped>\n",
       "    .dataframe tbody tr th:only-of-type {\n",
       "        vertical-align: middle;\n",
       "    }\n",
       "\n",
       "    .dataframe tbody tr th {\n",
       "        vertical-align: top;\n",
       "    }\n",
       "\n",
       "    .dataframe thead th {\n",
       "        text-align: right;\n",
       "    }\n",
       "</style>\n",
       "<table border=\"1\" class=\"dataframe\">\n",
       "  <thead>\n",
       "    <tr style=\"text-align: right;\">\n",
       "      <th></th>\n",
       "      <th>Unnamed: 0</th>\n",
       "      <th>content</th>\n",
       "      <th>title</th>\n",
       "      <th>title_article</th>\n",
       "      <th>Date</th>\n",
       "      <th>stemmed_text</th>\n",
       "      <th>stemmed_string</th>\n",
       "      <th>ContentVector</th>\n",
       "    </tr>\n",
       "  </thead>\n",
       "  <tbody>\n",
       "    <tr>\n",
       "      <th>0</th>\n",
       "      <td>0</td>\n",
       "      <td>Music is a fundamental attribute of the human ...</td>\n",
       "      <td>September 11, 2021</td>\n",
       "      <td>Music and health</td>\n",
       "      <td>NaN</td>\n",
       "      <td>[music, fundament, attribut, human, speci, vir...</td>\n",
       "      <td>music fundament attribut human speci virtual c...</td>\n",
       "      <td>[0.03664947, 0.047659457, -0.024053393, -0.016...</td>\n",
       "    </tr>\n",
       "    <tr>\n",
       "      <th>1</th>\n",
       "      <td>1</td>\n",
       "      <td>The human brain and nervous system are hard-wi...</td>\n",
       "      <td>September 11, 2021</td>\n",
       "      <td>Music and health</td>\n",
       "      <td>NaN</td>\n",
       "      <td>[human, brain, nervous, system, hard-wir, dist...</td>\n",
       "      <td>human brain nervous system hard-wir distinguis...</td>\n",
       "      <td>[0.01324778, 0.021431528, -0.029397862, -0.023...</td>\n",
       "    </tr>\n",
       "    <tr>\n",
       "      <th>2</th>\n",
       "      <td>2</td>\n",
       "      <td>Like any sound, music arrives at the ear in th...</td>\n",
       "      <td>Music and the brain</td>\n",
       "      <td>Music and health</td>\n",
       "      <td>NaN</td>\n",
       "      <td>[like, sound, music, arriv, ear, form, sound, ...</td>\n",
       "      <td>like sound music arriv ear form sound wave ext...</td>\n",
       "      <td>[-0.0003055716, -0.026745748, -0.00018279918, ...</td>\n",
       "    </tr>\n",
       "    <tr>\n",
       "      <th>3</th>\n",
       "      <td>3</td>\n",
       "      <td>The cochlea is a busy little world of its own....</td>\n",
       "      <td>Music and the brain</td>\n",
       "      <td>Music and health</td>\n",
       "      <td>NaN</td>\n",
       "      <td>[cochlea, busi, littl, world, fill, fluid, sur...</td>\n",
       "      <td>cochlea busi littl world fill fluid surround 1...</td>\n",
       "      <td>[-0.020545544, -0.025640873, 0.010686696, -0.0...</td>\n",
       "    </tr>\n",
       "    <tr>\n",
       "      <th>4</th>\n",
       "      <td>4</td>\n",
       "      <td>From there, things get even more complicated. ...</td>\n",
       "      <td>Music and the brain</td>\n",
       "      <td>Music and health</td>\n",
       "      <td>NaN</td>\n",
       "      <td>[thing, get, even, complic, studi, use, mri, p...</td>\n",
       "      <td>thing get even complic studi use mri positron ...</td>\n",
       "      <td>[0.012310253, 0.011910976, -0.020971451, 0.023...</td>\n",
       "    </tr>\n",
       "  </tbody>\n",
       "</table>\n",
       "</div>"
      ],
      "text/plain": [
       "   Unnamed: 0                                            content  \\\n",
       "0           0  Music is a fundamental attribute of the human ...   \n",
       "1           1  The human brain and nervous system are hard-wi...   \n",
       "2           2  Like any sound, music arrives at the ear in th...   \n",
       "3           3  The cochlea is a busy little world of its own....   \n",
       "4           4  From there, things get even more complicated. ...   \n",
       "\n",
       "                 title     title_article  Date  \\\n",
       "0   September 11, 2021  Music and health   NaN   \n",
       "1   September 11, 2021  Music and health   NaN   \n",
       "2  Music and the brain  Music and health   NaN   \n",
       "3  Music and the brain  Music and health   NaN   \n",
       "4  Music and the brain  Music and health   NaN   \n",
       "\n",
       "                                        stemmed_text  \\\n",
       "0  [music, fundament, attribut, human, speci, vir...   \n",
       "1  [human, brain, nervous, system, hard-wir, dist...   \n",
       "2  [like, sound, music, arriv, ear, form, sound, ...   \n",
       "3  [cochlea, busi, littl, world, fill, fluid, sur...   \n",
       "4  [thing, get, even, complic, studi, use, mri, p...   \n",
       "\n",
       "                                      stemmed_string  \\\n",
       "0  music fundament attribut human speci virtual c...   \n",
       "1  human brain nervous system hard-wir distinguis...   \n",
       "2  like sound music arriv ear form sound wave ext...   \n",
       "3  cochlea busi littl world fill fluid surround 1...   \n",
       "4  thing get even complic studi use mri positron ...   \n",
       "\n",
       "                                       ContentVector  \n",
       "0  [0.03664947, 0.047659457, -0.024053393, -0.016...  \n",
       "1  [0.01324778, 0.021431528, -0.029397862, -0.023...  \n",
       "2  [-0.0003055716, -0.026745748, -0.00018279918, ...  \n",
       "3  [-0.020545544, -0.025640873, 0.010686696, -0.0...  \n",
       "4  [0.012310253, 0.011910976, -0.020971451, 0.023...  "
      ]
     },
     "execution_count": 22,
     "metadata": {},
     "output_type": "execute_result"
    }
   ],
   "source": [
    "df.head()"
   ]
  },
  {
   "cell_type": "code",
   "execution_count": 23,
   "metadata": {},
   "outputs": [
    {
     "name": "stdout",
     "output_type": "stream",
     "text": [
      "<bound method NDFrame.describe of 0    [0.03664947, 0.047659457, -0.024053393, -0.016...\n",
      "Name: ContentVector, dtype: object>\n"
     ]
    }
   ],
   "source": [
    "\n",
    "pd.set_option('display.max_colwidth', 50)\n",
    "print(df.loc[[0]].ContentVector.describe)"
   ]
  },
  {
   "cell_type": "markdown",
   "metadata": {},
   "source": [
    "## Clustering"
   ]
  },
  {
   "cell_type": "code",
   "execution_count": 24,
   "metadata": {},
   "outputs": [],
   "source": [
    "corpus = df.stemmed_string"
   ]
  },
  {
   "cell_type": "code",
   "execution_count": 25,
   "metadata": {},
   "outputs": [],
   "source": [
    "from sklearn.feature_extraction.text import CountVectorizer"
   ]
  },
  {
   "cell_type": "code",
   "execution_count": 26,
   "metadata": {},
   "outputs": [],
   "source": [
    "vec = CountVectorizer()"
   ]
  },
  {
   "cell_type": "code",
   "execution_count": 27,
   "metadata": {},
   "outputs": [],
   "source": [
    "matrix_corpus = vec.fit_transform(corpus)"
   ]
  },
  {
   "cell_type": "markdown",
   "metadata": {},
   "source": [
    "### Agglomerative Hierarchical Clustering"
   ]
  },
  {
   "cell_type": "code",
   "execution_count": 28,
   "metadata": {},
   "outputs": [],
   "source": [
    "from sklearn.cluster import AgglomerativeClustering"
   ]
  },
  {
   "cell_type": "code",
   "execution_count": 29,
   "metadata": {},
   "outputs": [],
   "source": [
    "aggClus = AgglomerativeClustering(n_clusters= 3, linkage='complete', affinity ='cosine')\n"
   ]
  },
  {
   "cell_type": "code",
   "execution_count": 30,
   "metadata": {},
   "outputs": [
    {
     "name": "stderr",
     "output_type": "stream",
     "text": [
      "d:\\LAU\\Courses\\Year 4 5th Year\\Fall 2023\\COE 543 IDPA\\Project_1\\venv\\lib\\site-packages\\sklearn\\cluster\\_agglomerative.py:1006: FutureWarning: Attribute `affinity` was deprecated in version 1.2 and will be removed in 1.4. Use `metric` instead\n",
      "  warnings.warn(\n"
     ]
    },
    {
     "data": {
      "text/html": [
       "<style>#sk-container-id-1 {color: black;}#sk-container-id-1 pre{padding: 0;}#sk-container-id-1 div.sk-toggleable {background-color: white;}#sk-container-id-1 label.sk-toggleable__label {cursor: pointer;display: block;width: 100%;margin-bottom: 0;padding: 0.3em;box-sizing: border-box;text-align: center;}#sk-container-id-1 label.sk-toggleable__label-arrow:before {content: \"▸\";float: left;margin-right: 0.25em;color: #696969;}#sk-container-id-1 label.sk-toggleable__label-arrow:hover:before {color: black;}#sk-container-id-1 div.sk-estimator:hover label.sk-toggleable__label-arrow:before {color: black;}#sk-container-id-1 div.sk-toggleable__content {max-height: 0;max-width: 0;overflow: hidden;text-align: left;background-color: #f0f8ff;}#sk-container-id-1 div.sk-toggleable__content pre {margin: 0.2em;color: black;border-radius: 0.25em;background-color: #f0f8ff;}#sk-container-id-1 input.sk-toggleable__control:checked~div.sk-toggleable__content {max-height: 200px;max-width: 100%;overflow: auto;}#sk-container-id-1 input.sk-toggleable__control:checked~label.sk-toggleable__label-arrow:before {content: \"▾\";}#sk-container-id-1 div.sk-estimator input.sk-toggleable__control:checked~label.sk-toggleable__label {background-color: #d4ebff;}#sk-container-id-1 div.sk-label input.sk-toggleable__control:checked~label.sk-toggleable__label {background-color: #d4ebff;}#sk-container-id-1 input.sk-hidden--visually {border: 0;clip: rect(1px 1px 1px 1px);clip: rect(1px, 1px, 1px, 1px);height: 1px;margin: -1px;overflow: hidden;padding: 0;position: absolute;width: 1px;}#sk-container-id-1 div.sk-estimator {font-family: monospace;background-color: #f0f8ff;border: 1px dotted black;border-radius: 0.25em;box-sizing: border-box;margin-bottom: 0.5em;}#sk-container-id-1 div.sk-estimator:hover {background-color: #d4ebff;}#sk-container-id-1 div.sk-parallel-item::after {content: \"\";width: 100%;border-bottom: 1px solid gray;flex-grow: 1;}#sk-container-id-1 div.sk-label:hover label.sk-toggleable__label {background-color: #d4ebff;}#sk-container-id-1 div.sk-serial::before {content: \"\";position: absolute;border-left: 1px solid gray;box-sizing: border-box;top: 0;bottom: 0;left: 50%;z-index: 0;}#sk-container-id-1 div.sk-serial {display: flex;flex-direction: column;align-items: center;background-color: white;padding-right: 0.2em;padding-left: 0.2em;position: relative;}#sk-container-id-1 div.sk-item {position: relative;z-index: 1;}#sk-container-id-1 div.sk-parallel {display: flex;align-items: stretch;justify-content: center;background-color: white;position: relative;}#sk-container-id-1 div.sk-item::before, #sk-container-id-1 div.sk-parallel-item::before {content: \"\";position: absolute;border-left: 1px solid gray;box-sizing: border-box;top: 0;bottom: 0;left: 50%;z-index: -1;}#sk-container-id-1 div.sk-parallel-item {display: flex;flex-direction: column;z-index: 1;position: relative;background-color: white;}#sk-container-id-1 div.sk-parallel-item:first-child::after {align-self: flex-end;width: 50%;}#sk-container-id-1 div.sk-parallel-item:last-child::after {align-self: flex-start;width: 50%;}#sk-container-id-1 div.sk-parallel-item:only-child::after {width: 0;}#sk-container-id-1 div.sk-dashed-wrapped {border: 1px dashed gray;margin: 0 0.4em 0.5em 0.4em;box-sizing: border-box;padding-bottom: 0.4em;background-color: white;}#sk-container-id-1 div.sk-label label {font-family: monospace;font-weight: bold;display: inline-block;line-height: 1.2em;}#sk-container-id-1 div.sk-label-container {text-align: center;}#sk-container-id-1 div.sk-container {/* jupyter's `normalize.less` sets `[hidden] { display: none; }` but bootstrap.min.css set `[hidden] { display: none !important; }` so we also need the `!important` here to be able to override the default hidden behavior on the sphinx rendered scikit-learn.org. See: https://github.com/scikit-learn/scikit-learn/issues/21755 */display: inline-block !important;position: relative;}#sk-container-id-1 div.sk-text-repr-fallback {display: none;}</style><div id=\"sk-container-id-1\" class=\"sk-top-container\"><div class=\"sk-text-repr-fallback\"><pre>AgglomerativeClustering(affinity=&#x27;cosine&#x27;, linkage=&#x27;complete&#x27;, n_clusters=3)</pre><b>In a Jupyter environment, please rerun this cell to show the HTML representation or trust the notebook. <br />On GitHub, the HTML representation is unable to render, please try loading this page with nbviewer.org.</b></div><div class=\"sk-container\" hidden><div class=\"sk-item\"><div class=\"sk-estimator sk-toggleable\"><input class=\"sk-toggleable__control sk-hidden--visually\" id=\"sk-estimator-id-1\" type=\"checkbox\" checked><label for=\"sk-estimator-id-1\" class=\"sk-toggleable__label sk-toggleable__label-arrow\">AgglomerativeClustering</label><div class=\"sk-toggleable__content\"><pre>AgglomerativeClustering(affinity=&#x27;cosine&#x27;, linkage=&#x27;complete&#x27;, n_clusters=3)</pre></div></div></div></div></div>"
      ],
      "text/plain": [
       "AgglomerativeClustering(affinity='cosine', linkage='complete', n_clusters=3)"
      ]
     },
     "execution_count": 30,
     "metadata": {},
     "output_type": "execute_result"
    }
   ],
   "source": [
    "aggClus.fit(matrix_corpus.toarray())"
   ]
  },
  {
   "cell_type": "code",
   "execution_count": 31,
   "metadata": {},
   "outputs": [
    {
     "data": {
      "text/plain": [
       "array([0, 0, 0, 0, 0, 0, 0, 0, 0, 0, 1, 1, 0, 0, 0, 0, 0, 0, 0, 0, 0, 0,\n",
       "       0, 0, 0, 0, 0, 0, 0, 0, 0, 0, 0, 0, 0, 0, 0, 0, 0, 0, 0, 0, 0, 0,\n",
       "       0, 0, 0, 0, 0, 0, 0, 0, 0, 0, 0, 0, 0, 0, 2, 0, 0, 0, 0, 0, 0, 0,\n",
       "       0, 0, 0, 0, 0, 0, 0, 0, 0, 0, 0, 0, 0, 0, 0, 0, 0, 0, 0, 0, 0, 0,\n",
       "       0, 0, 0, 0, 0, 0, 0, 1, 0, 0, 0, 0, 1, 1, 1, 1, 1, 1, 1, 1, 1, 1,\n",
       "       1, 1, 1, 1, 1, 1, 2, 1, 1, 1, 1, 1, 1, 0, 1, 1, 1, 1, 1, 1, 1, 1,\n",
       "       1, 1, 1, 1, 1, 1, 1, 1, 1, 1, 1, 0, 1, 1, 1], dtype=int64)"
      ]
     },
     "execution_count": 31,
     "metadata": {},
     "output_type": "execute_result"
    }
   ],
   "source": [
    "aggClus.labels_\n"
   ]
  },
  {
   "cell_type": "markdown",
   "metadata": {},
   "source": [
    "### Partitional Clustering (Library)"
   ]
  },
  {
   "cell_type": "code",
   "execution_count": 32,
   "metadata": {},
   "outputs": [],
   "source": [
    "from sklearn.cluster import KMeans"
   ]
  },
  {
   "cell_type": "code",
   "execution_count": 33,
   "metadata": {},
   "outputs": [],
   "source": [
    "kmeans = KMeans(n_clusters = 2, max_iter = 300, tol = 1e-4, algorithm = 'elkan')"
   ]
  },
  {
   "cell_type": "code",
   "execution_count": 34,
   "metadata": {},
   "outputs": [
    {
     "name": "stderr",
     "output_type": "stream",
     "text": [
      "d:\\LAU\\Courses\\Year 4 5th Year\\Fall 2023\\COE 543 IDPA\\Project_1\\venv\\lib\\site-packages\\sklearn\\cluster\\_kmeans.py:1416: FutureWarning: The default value of `n_init` will change from 10 to 'auto' in 1.4. Set the value of `n_init` explicitly to suppress the warning\n",
      "  super()._check_params_vs_input(X, default_n_init=10)\n"
     ]
    },
    {
     "data": {
      "text/html": [
       "<style>#sk-container-id-2 {color: black;}#sk-container-id-2 pre{padding: 0;}#sk-container-id-2 div.sk-toggleable {background-color: white;}#sk-container-id-2 label.sk-toggleable__label {cursor: pointer;display: block;width: 100%;margin-bottom: 0;padding: 0.3em;box-sizing: border-box;text-align: center;}#sk-container-id-2 label.sk-toggleable__label-arrow:before {content: \"▸\";float: left;margin-right: 0.25em;color: #696969;}#sk-container-id-2 label.sk-toggleable__label-arrow:hover:before {color: black;}#sk-container-id-2 div.sk-estimator:hover label.sk-toggleable__label-arrow:before {color: black;}#sk-container-id-2 div.sk-toggleable__content {max-height: 0;max-width: 0;overflow: hidden;text-align: left;background-color: #f0f8ff;}#sk-container-id-2 div.sk-toggleable__content pre {margin: 0.2em;color: black;border-radius: 0.25em;background-color: #f0f8ff;}#sk-container-id-2 input.sk-toggleable__control:checked~div.sk-toggleable__content {max-height: 200px;max-width: 100%;overflow: auto;}#sk-container-id-2 input.sk-toggleable__control:checked~label.sk-toggleable__label-arrow:before {content: \"▾\";}#sk-container-id-2 div.sk-estimator input.sk-toggleable__control:checked~label.sk-toggleable__label {background-color: #d4ebff;}#sk-container-id-2 div.sk-label input.sk-toggleable__control:checked~label.sk-toggleable__label {background-color: #d4ebff;}#sk-container-id-2 input.sk-hidden--visually {border: 0;clip: rect(1px 1px 1px 1px);clip: rect(1px, 1px, 1px, 1px);height: 1px;margin: -1px;overflow: hidden;padding: 0;position: absolute;width: 1px;}#sk-container-id-2 div.sk-estimator {font-family: monospace;background-color: #f0f8ff;border: 1px dotted black;border-radius: 0.25em;box-sizing: border-box;margin-bottom: 0.5em;}#sk-container-id-2 div.sk-estimator:hover {background-color: #d4ebff;}#sk-container-id-2 div.sk-parallel-item::after {content: \"\";width: 100%;border-bottom: 1px solid gray;flex-grow: 1;}#sk-container-id-2 div.sk-label:hover label.sk-toggleable__label {background-color: #d4ebff;}#sk-container-id-2 div.sk-serial::before {content: \"\";position: absolute;border-left: 1px solid gray;box-sizing: border-box;top: 0;bottom: 0;left: 50%;z-index: 0;}#sk-container-id-2 div.sk-serial {display: flex;flex-direction: column;align-items: center;background-color: white;padding-right: 0.2em;padding-left: 0.2em;position: relative;}#sk-container-id-2 div.sk-item {position: relative;z-index: 1;}#sk-container-id-2 div.sk-parallel {display: flex;align-items: stretch;justify-content: center;background-color: white;position: relative;}#sk-container-id-2 div.sk-item::before, #sk-container-id-2 div.sk-parallel-item::before {content: \"\";position: absolute;border-left: 1px solid gray;box-sizing: border-box;top: 0;bottom: 0;left: 50%;z-index: -1;}#sk-container-id-2 div.sk-parallel-item {display: flex;flex-direction: column;z-index: 1;position: relative;background-color: white;}#sk-container-id-2 div.sk-parallel-item:first-child::after {align-self: flex-end;width: 50%;}#sk-container-id-2 div.sk-parallel-item:last-child::after {align-self: flex-start;width: 50%;}#sk-container-id-2 div.sk-parallel-item:only-child::after {width: 0;}#sk-container-id-2 div.sk-dashed-wrapped {border: 1px dashed gray;margin: 0 0.4em 0.5em 0.4em;box-sizing: border-box;padding-bottom: 0.4em;background-color: white;}#sk-container-id-2 div.sk-label label {font-family: monospace;font-weight: bold;display: inline-block;line-height: 1.2em;}#sk-container-id-2 div.sk-label-container {text-align: center;}#sk-container-id-2 div.sk-container {/* jupyter's `normalize.less` sets `[hidden] { display: none; }` but bootstrap.min.css set `[hidden] { display: none !important; }` so we also need the `!important` here to be able to override the default hidden behavior on the sphinx rendered scikit-learn.org. See: https://github.com/scikit-learn/scikit-learn/issues/21755 */display: inline-block !important;position: relative;}#sk-container-id-2 div.sk-text-repr-fallback {display: none;}</style><div id=\"sk-container-id-2\" class=\"sk-top-container\"><div class=\"sk-text-repr-fallback\"><pre>KMeans(algorithm=&#x27;elkan&#x27;, n_clusters=2)</pre><b>In a Jupyter environment, please rerun this cell to show the HTML representation or trust the notebook. <br />On GitHub, the HTML representation is unable to render, please try loading this page with nbviewer.org.</b></div><div class=\"sk-container\" hidden><div class=\"sk-item\"><div class=\"sk-estimator sk-toggleable\"><input class=\"sk-toggleable__control sk-hidden--visually\" id=\"sk-estimator-id-2\" type=\"checkbox\" checked><label for=\"sk-estimator-id-2\" class=\"sk-toggleable__label sk-toggleable__label-arrow\">KMeans</label><div class=\"sk-toggleable__content\"><pre>KMeans(algorithm=&#x27;elkan&#x27;, n_clusters=2)</pre></div></div></div></div></div>"
      ],
      "text/plain": [
       "KMeans(algorithm='elkan', n_clusters=2)"
      ]
     },
     "execution_count": 34,
     "metadata": {},
     "output_type": "execute_result"
    }
   ],
   "source": [
    "kmeans.fit(matrix_corpus)"
   ]
  },
  {
   "cell_type": "code",
   "execution_count": 35,
   "metadata": {},
   "outputs": [
    {
     "data": {
      "text/plain": [
       "array([1, 1, 1, 1, 1, 1, 1, 1, 1, 1, 0, 0, 1, 1, 0, 1, 0, 0, 1, 0, 1, 1,\n",
       "       1, 1, 0, 0, 0, 0, 0, 1, 0, 0, 1, 1, 0, 0, 0, 0, 0, 0, 0, 1, 0, 1,\n",
       "       0, 0, 1, 0, 0, 1, 0, 0, 0, 0, 0, 1, 1, 1, 1, 0, 1, 1, 0, 0, 1, 0,\n",
       "       0, 1, 0, 0, 0, 1, 1, 0, 1, 0, 1, 1, 1, 1, 1, 1, 1, 1, 1, 1, 1, 1,\n",
       "       1, 1, 1, 1, 1, 1, 1, 1, 1, 1, 1, 1, 1, 1, 1, 1, 1, 1, 1, 1, 1, 1,\n",
       "       1, 1, 1, 1, 1, 1, 1, 1, 1, 1, 1, 1, 1, 1, 1, 1, 1, 1, 1, 1, 1, 1,\n",
       "       1, 1, 1, 1, 1, 1, 1, 1, 1, 1, 1, 0, 1, 1, 1])"
      ]
     },
     "execution_count": 35,
     "metadata": {},
     "output_type": "execute_result"
    }
   ],
   "source": [
    "kmeans.labels_"
   ]
  },
  {
   "cell_type": "code",
   "execution_count": 36,
   "metadata": {},
   "outputs": [
    {
     "data": {
      "text/plain": [
       "array([1])"
      ]
     },
     "execution_count": 36,
     "metadata": {},
     "output_type": "execute_result"
    }
   ],
   "source": [
    "kmeans.predict(matrix_corpus[5])"
   ]
  },
  {
   "cell_type": "code",
   "execution_count": 37,
   "metadata": {},
   "outputs": [],
   "source": [
    "from sklearn.neighbors import NearestNeighbors"
   ]
  },
  {
   "cell_type": "code",
   "execution_count": 38,
   "metadata": {},
   "outputs": [],
   "source": [
    "kn = NearestNeighbors()"
   ]
  },
  {
   "cell_type": "code",
   "execution_count": 39,
   "metadata": {},
   "outputs": [
    {
     "data": {
      "text/html": [
       "<style>#sk-container-id-3 {color: black;}#sk-container-id-3 pre{padding: 0;}#sk-container-id-3 div.sk-toggleable {background-color: white;}#sk-container-id-3 label.sk-toggleable__label {cursor: pointer;display: block;width: 100%;margin-bottom: 0;padding: 0.3em;box-sizing: border-box;text-align: center;}#sk-container-id-3 label.sk-toggleable__label-arrow:before {content: \"▸\";float: left;margin-right: 0.25em;color: #696969;}#sk-container-id-3 label.sk-toggleable__label-arrow:hover:before {color: black;}#sk-container-id-3 div.sk-estimator:hover label.sk-toggleable__label-arrow:before {color: black;}#sk-container-id-3 div.sk-toggleable__content {max-height: 0;max-width: 0;overflow: hidden;text-align: left;background-color: #f0f8ff;}#sk-container-id-3 div.sk-toggleable__content pre {margin: 0.2em;color: black;border-radius: 0.25em;background-color: #f0f8ff;}#sk-container-id-3 input.sk-toggleable__control:checked~div.sk-toggleable__content {max-height: 200px;max-width: 100%;overflow: auto;}#sk-container-id-3 input.sk-toggleable__control:checked~label.sk-toggleable__label-arrow:before {content: \"▾\";}#sk-container-id-3 div.sk-estimator input.sk-toggleable__control:checked~label.sk-toggleable__label {background-color: #d4ebff;}#sk-container-id-3 div.sk-label input.sk-toggleable__control:checked~label.sk-toggleable__label {background-color: #d4ebff;}#sk-container-id-3 input.sk-hidden--visually {border: 0;clip: rect(1px 1px 1px 1px);clip: rect(1px, 1px, 1px, 1px);height: 1px;margin: -1px;overflow: hidden;padding: 0;position: absolute;width: 1px;}#sk-container-id-3 div.sk-estimator {font-family: monospace;background-color: #f0f8ff;border: 1px dotted black;border-radius: 0.25em;box-sizing: border-box;margin-bottom: 0.5em;}#sk-container-id-3 div.sk-estimator:hover {background-color: #d4ebff;}#sk-container-id-3 div.sk-parallel-item::after {content: \"\";width: 100%;border-bottom: 1px solid gray;flex-grow: 1;}#sk-container-id-3 div.sk-label:hover label.sk-toggleable__label {background-color: #d4ebff;}#sk-container-id-3 div.sk-serial::before {content: \"\";position: absolute;border-left: 1px solid gray;box-sizing: border-box;top: 0;bottom: 0;left: 50%;z-index: 0;}#sk-container-id-3 div.sk-serial {display: flex;flex-direction: column;align-items: center;background-color: white;padding-right: 0.2em;padding-left: 0.2em;position: relative;}#sk-container-id-3 div.sk-item {position: relative;z-index: 1;}#sk-container-id-3 div.sk-parallel {display: flex;align-items: stretch;justify-content: center;background-color: white;position: relative;}#sk-container-id-3 div.sk-item::before, #sk-container-id-3 div.sk-parallel-item::before {content: \"\";position: absolute;border-left: 1px solid gray;box-sizing: border-box;top: 0;bottom: 0;left: 50%;z-index: -1;}#sk-container-id-3 div.sk-parallel-item {display: flex;flex-direction: column;z-index: 1;position: relative;background-color: white;}#sk-container-id-3 div.sk-parallel-item:first-child::after {align-self: flex-end;width: 50%;}#sk-container-id-3 div.sk-parallel-item:last-child::after {align-self: flex-start;width: 50%;}#sk-container-id-3 div.sk-parallel-item:only-child::after {width: 0;}#sk-container-id-3 div.sk-dashed-wrapped {border: 1px dashed gray;margin: 0 0.4em 0.5em 0.4em;box-sizing: border-box;padding-bottom: 0.4em;background-color: white;}#sk-container-id-3 div.sk-label label {font-family: monospace;font-weight: bold;display: inline-block;line-height: 1.2em;}#sk-container-id-3 div.sk-label-container {text-align: center;}#sk-container-id-3 div.sk-container {/* jupyter's `normalize.less` sets `[hidden] { display: none; }` but bootstrap.min.css set `[hidden] { display: none !important; }` so we also need the `!important` here to be able to override the default hidden behavior on the sphinx rendered scikit-learn.org. See: https://github.com/scikit-learn/scikit-learn/issues/21755 */display: inline-block !important;position: relative;}#sk-container-id-3 div.sk-text-repr-fallback {display: none;}</style><div id=\"sk-container-id-3\" class=\"sk-top-container\"><div class=\"sk-text-repr-fallback\"><pre>NearestNeighbors()</pre><b>In a Jupyter environment, please rerun this cell to show the HTML representation or trust the notebook. <br />On GitHub, the HTML representation is unable to render, please try loading this page with nbviewer.org.</b></div><div class=\"sk-container\" hidden><div class=\"sk-item\"><div class=\"sk-estimator sk-toggleable\"><input class=\"sk-toggleable__control sk-hidden--visually\" id=\"sk-estimator-id-3\" type=\"checkbox\" checked><label for=\"sk-estimator-id-3\" class=\"sk-toggleable__label sk-toggleable__label-arrow\">NearestNeighbors</label><div class=\"sk-toggleable__content\"><pre>NearestNeighbors()</pre></div></div></div></div></div>"
      ],
      "text/plain": [
       "NearestNeighbors()"
      ]
     },
     "execution_count": 39,
     "metadata": {},
     "output_type": "execute_result"
    }
   ],
   "source": [
    "kn.fit(matrix_corpus)"
   ]
  },
  {
   "cell_type": "code",
   "execution_count": 52,
   "metadata": {},
   "outputs": [
    {
     "data": {
      "text/plain": [
       "(array([[0.        , 8.66025404, 9.11043358]]),\n",
       " array([[ 3,  7, 49]], dtype=int64))"
      ]
     },
     "execution_count": 52,
     "metadata": {},
     "output_type": "execute_result"
    }
   ],
   "source": [
    "# checking which 2 objects are nearest to object 3 and what are their distance measures to object 3\n",
    "kn.kneighbors(matrix_corpus[3],2)"
   ]
  },
  {
   "cell_type": "code",
   "execution_count": 51,
   "metadata": {},
   "outputs": [
    {
     "data": {
      "text/plain": [
       "(array([array([0.        , 8.66025404])], dtype=object),\n",
       " array([array([3, 7], dtype=int64)], dtype=object))"
      ]
     },
     "execution_count": 51,
     "metadata": {},
     "output_type": "execute_result"
    }
   ],
   "source": [
    "kn.radius_neighbors(matrix_corpus[3], radius = 8.9)"
   ]
  },
  {
   "cell_type": "code",
   "execution_count": 57,
   "metadata": {},
   "outputs": [],
   "source": [
    "from sklearn.metrics.pairwise import cosine_similarity"
   ]
  },
  {
   "cell_type": "code",
   "execution_count": null,
   "metadata": {},
   "outputs": [],
   "source": []
  },
  {
   "cell_type": "markdown",
   "metadata": {},
   "source": [
    "### Partitional Clustering (Manual)"
   ]
  },
  {
   "cell_type": "code",
   "execution_count": 42,
   "metadata": {},
   "outputs": [
    {
     "data": {
      "text/html": [
       "<div>\n",
       "<style scoped>\n",
       "    .dataframe tbody tr th:only-of-type {\n",
       "        vertical-align: middle;\n",
       "    }\n",
       "\n",
       "    .dataframe tbody tr th {\n",
       "        vertical-align: top;\n",
       "    }\n",
       "\n",
       "    .dataframe thead th {\n",
       "        text-align: right;\n",
       "    }\n",
       "</style>\n",
       "<table border=\"1\" class=\"dataframe\">\n",
       "  <thead>\n",
       "    <tr style=\"text-align: right;\">\n",
       "      <th></th>\n",
       "      <th>Unnamed: 0</th>\n",
       "      <th>content</th>\n",
       "      <th>title</th>\n",
       "      <th>title_article</th>\n",
       "      <th>Date</th>\n",
       "      <th>stemmed_text</th>\n",
       "      <th>stemmed_string</th>\n",
       "      <th>ContentVector</th>\n",
       "    </tr>\n",
       "  </thead>\n",
       "  <tbody>\n",
       "    <tr>\n",
       "      <th>0</th>\n",
       "      <td>0</td>\n",
       "      <td>Music is a fundamental attribute of the human ...</td>\n",
       "      <td>September 11, 2021</td>\n",
       "      <td>Music and health</td>\n",
       "      <td>NaN</td>\n",
       "      <td>[music, fundament, attribut, human, speci, vir...</td>\n",
       "      <td>music fundament attribut human speci virtual c...</td>\n",
       "      <td>[0.03664947, 0.047659457, -0.024053393, -0.016...</td>\n",
       "    </tr>\n",
       "    <tr>\n",
       "      <th>1</th>\n",
       "      <td>1</td>\n",
       "      <td>The human brain and nervous system are hard-wi...</td>\n",
       "      <td>September 11, 2021</td>\n",
       "      <td>Music and health</td>\n",
       "      <td>NaN</td>\n",
       "      <td>[human, brain, nervous, system, hard-wir, dist...</td>\n",
       "      <td>human brain nervous system hard-wir distinguis...</td>\n",
       "      <td>[0.01324778, 0.021431528, -0.029397862, -0.023...</td>\n",
       "    </tr>\n",
       "    <tr>\n",
       "      <th>2</th>\n",
       "      <td>2</td>\n",
       "      <td>Like any sound, music arrives at the ear in th...</td>\n",
       "      <td>Music and the brain</td>\n",
       "      <td>Music and health</td>\n",
       "      <td>NaN</td>\n",
       "      <td>[like, sound, music, arriv, ear, form, sound, ...</td>\n",
       "      <td>like sound music arriv ear form sound wave ext...</td>\n",
       "      <td>[-0.0003055716, -0.026745748, -0.00018279918, ...</td>\n",
       "    </tr>\n",
       "    <tr>\n",
       "      <th>3</th>\n",
       "      <td>3</td>\n",
       "      <td>The cochlea is a busy little world of its own....</td>\n",
       "      <td>Music and the brain</td>\n",
       "      <td>Music and health</td>\n",
       "      <td>NaN</td>\n",
       "      <td>[cochlea, busi, littl, world, fill, fluid, sur...</td>\n",
       "      <td>cochlea busi littl world fill fluid surround 1...</td>\n",
       "      <td>[-0.020545544, -0.025640873, 0.010686696, -0.0...</td>\n",
       "    </tr>\n",
       "    <tr>\n",
       "      <th>4</th>\n",
       "      <td>4</td>\n",
       "      <td>From there, things get even more complicated. ...</td>\n",
       "      <td>Music and the brain</td>\n",
       "      <td>Music and health</td>\n",
       "      <td>NaN</td>\n",
       "      <td>[thing, get, even, complic, studi, use, mri, p...</td>\n",
       "      <td>thing get even complic studi use mri positron ...</td>\n",
       "      <td>[0.012310253, 0.011910976, -0.020971451, 0.023...</td>\n",
       "    </tr>\n",
       "    <tr>\n",
       "      <th>...</th>\n",
       "      <td>...</td>\n",
       "      <td>...</td>\n",
       "      <td>...</td>\n",
       "      <td>...</td>\n",
       "      <td>...</td>\n",
       "      <td>...</td>\n",
       "      <td>...</td>\n",
       "      <td>...</td>\n",
       "    </tr>\n",
       "    <tr>\n",
       "      <th>142</th>\n",
       "      <td>42</td>\n",
       "      <td>Specially trained music therapists use music t...</td>\n",
       "      <td>It can help manage pain</td>\n",
       "      <td>The Benefits of Listening to Music</td>\n",
       "      <td>NaN</td>\n",
       "      <td>[special, train, music, therapist, use, music,...</td>\n",
       "      <td>special train music therapist use music help a...</td>\n",
       "      <td>[0.02508311, 0.035512708, -0.01449879, -0.0166...</td>\n",
       "    </tr>\n",
       "    <tr>\n",
       "      <th>143</th>\n",
       "      <td>43</td>\n",
       "      <td>The American Music Therapy Association describ...</td>\n",
       "      <td>About music therapy</td>\n",
       "      <td>The Benefits of Listening to Music</td>\n",
       "      <td>NaN</td>\n",
       "      <td>[american, music, therapi, associ, describ, mu...</td>\n",
       "      <td>american music therapi associ describ music th...</td>\n",
       "      <td>[-0.008223726, 0.02191636, -0.027528716, -0.02...</td>\n",
       "    </tr>\n",
       "    <tr>\n",
       "      <th>144</th>\n",
       "      <td>44</td>\n",
       "      <td>Music exerts a powerful influence on human bei...</td>\n",
       "      <td>The takeaway</td>\n",
       "      <td>The Benefits of Listening to Music</td>\n",
       "      <td>NaN</td>\n",
       "      <td>[music, exert, power, influenc, human, be, boo...</td>\n",
       "      <td>music exert power influenc human be boost memo...</td>\n",
       "      <td>[-0.018271247, 0.05768528, -0.017926764, 0.000...</td>\n",
       "    </tr>\n",
       "    <tr>\n",
       "      <th>145</th>\n",
       "      <td>45</td>\n",
       "      <td>Working with a music therapist is one effectiv...</td>\n",
       "      <td>The takeaway</td>\n",
       "      <td>The Benefits of Listening to Music</td>\n",
       "      <td>NaN</td>\n",
       "      <td>[work, music, therapist, one, effect, way, tak...</td>\n",
       "      <td>work music therapist one effect way take advan...</td>\n",
       "      <td>[0.017901842, 0.057560798, -0.04014222, -0.007...</td>\n",
       "    </tr>\n",
       "    <tr>\n",
       "      <th>146</th>\n",
       "      <td>46</td>\n",
       "      <td>Last medically reviewed on April 1, 2020</td>\n",
       "      <td>The takeaway</td>\n",
       "      <td>The Benefits of Listening to Music</td>\n",
       "      <td>NaN</td>\n",
       "      <td>[last, medic, review, april, 1, 2020, takeaway...</td>\n",
       "      <td>last medic review april 1 2020 takeaway benefi...</td>\n",
       "      <td>[0.019024134, 0.043680213, 0.0005521628, -0.05...</td>\n",
       "    </tr>\n",
       "  </tbody>\n",
       "</table>\n",
       "<p>147 rows × 8 columns</p>\n",
       "</div>"
      ],
      "text/plain": [
       "     Unnamed: 0                                            content  \\\n",
       "0             0  Music is a fundamental attribute of the human ...   \n",
       "1             1  The human brain and nervous system are hard-wi...   \n",
       "2             2  Like any sound, music arrives at the ear in th...   \n",
       "3             3  The cochlea is a busy little world of its own....   \n",
       "4             4  From there, things get even more complicated. ...   \n",
       "..          ...                                                ...   \n",
       "142          42  Specially trained music therapists use music t...   \n",
       "143          43  The American Music Therapy Association describ...   \n",
       "144          44  Music exerts a powerful influence on human bei...   \n",
       "145          45  Working with a music therapist is one effectiv...   \n",
       "146          46           Last medically reviewed on April 1, 2020   \n",
       "\n",
       "                       title                       title_article  Date  \\\n",
       "0         September 11, 2021                    Music and health   NaN   \n",
       "1         September 11, 2021                    Music and health   NaN   \n",
       "2        Music and the brain                    Music and health   NaN   \n",
       "3        Music and the brain                    Music and health   NaN   \n",
       "4        Music and the brain                    Music and health   NaN   \n",
       "..                       ...                                 ...   ...   \n",
       "142  It can help manage pain  The Benefits of Listening to Music   NaN   \n",
       "143      About music therapy  The Benefits of Listening to Music   NaN   \n",
       "144             The takeaway  The Benefits of Listening to Music   NaN   \n",
       "145             The takeaway  The Benefits of Listening to Music   NaN   \n",
       "146             The takeaway  The Benefits of Listening to Music   NaN   \n",
       "\n",
       "                                          stemmed_text  \\\n",
       "0    [music, fundament, attribut, human, speci, vir...   \n",
       "1    [human, brain, nervous, system, hard-wir, dist...   \n",
       "2    [like, sound, music, arriv, ear, form, sound, ...   \n",
       "3    [cochlea, busi, littl, world, fill, fluid, sur...   \n",
       "4    [thing, get, even, complic, studi, use, mri, p...   \n",
       "..                                                 ...   \n",
       "142  [special, train, music, therapist, use, music,...   \n",
       "143  [american, music, therapi, associ, describ, mu...   \n",
       "144  [music, exert, power, influenc, human, be, boo...   \n",
       "145  [work, music, therapist, one, effect, way, tak...   \n",
       "146  [last, medic, review, april, 1, 2020, takeaway...   \n",
       "\n",
       "                                        stemmed_string  \\\n",
       "0    music fundament attribut human speci virtual c...   \n",
       "1    human brain nervous system hard-wir distinguis...   \n",
       "2    like sound music arriv ear form sound wave ext...   \n",
       "3    cochlea busi littl world fill fluid surround 1...   \n",
       "4    thing get even complic studi use mri positron ...   \n",
       "..                                                 ...   \n",
       "142  special train music therapist use music help a...   \n",
       "143  american music therapi associ describ music th...   \n",
       "144  music exert power influenc human be boost memo...   \n",
       "145  work music therapist one effect way take advan...   \n",
       "146  last medic review april 1 2020 takeaway benefi...   \n",
       "\n",
       "                                         ContentVector  \n",
       "0    [0.03664947, 0.047659457, -0.024053393, -0.016...  \n",
       "1    [0.01324778, 0.021431528, -0.029397862, -0.023...  \n",
       "2    [-0.0003055716, -0.026745748, -0.00018279918, ...  \n",
       "3    [-0.020545544, -0.025640873, 0.010686696, -0.0...  \n",
       "4    [0.012310253, 0.011910976, -0.020971451, 0.023...  \n",
       "..                                                 ...  \n",
       "142  [0.02508311, 0.035512708, -0.01449879, -0.0166...  \n",
       "143  [-0.008223726, 0.02191636, -0.027528716, -0.02...  \n",
       "144  [-0.018271247, 0.05768528, -0.017926764, 0.000...  \n",
       "145  [0.017901842, 0.057560798, -0.04014222, -0.007...  \n",
       "146  [0.019024134, 0.043680213, 0.0005521628, -0.05...  \n",
       "\n",
       "[147 rows x 8 columns]"
      ]
     },
     "execution_count": 42,
     "metadata": {},
     "output_type": "execute_result"
    }
   ],
   "source": [
    "df"
   ]
  },
  {
   "cell_type": "code",
   "execution_count": 92,
   "metadata": {},
   "outputs": [],
   "source": [
    "import numpy\n",
    "\n",
    "\n",
    "data=df.ContentVector.squeeze(axis=0)"
   ]
  },
  {
   "cell_type": "code",
   "execution_count": 93,
   "metadata": {},
   "outputs": [
    {
     "name": "stdout",
     "output_type": "stream",
     "text": [
      "0      [0.03664947, 0.047659457, -0.024053393, -0.016...\n",
      "1      [0.01324778, 0.021431528, -0.029397862, -0.023...\n",
      "2      [-0.0003055716, -0.026745748, -0.00018279918, ...\n",
      "3      [-0.020545544, -0.025640873, 0.010686696, -0.0...\n",
      "4      [0.012310253, 0.011910976, -0.020971451, 0.023...\n",
      "                             ...                        \n",
      "142    [0.02508311, 0.035512708, -0.01449879, -0.0166...\n",
      "143    [-0.008223726, 0.02191636, -0.027528716, -0.02...\n",
      "144    [-0.018271247, 0.05768528, -0.017926764, 0.000...\n",
      "145    [0.017901842, 0.057560798, -0.04014222, -0.007...\n",
      "146    [0.019024134, 0.043680213, 0.0005521628, -0.05...\n",
      "Name: ContentVector, Length: 147, dtype: object\n"
     ]
    }
   ],
   "source": [
    "print(data)"
   ]
  },
  {
   "cell_type": "code",
   "execution_count": 166,
   "metadata": {},
   "outputs": [],
   "source": [
    "def random_centroids(data, k):\n",
    "  centroids = []\n",
    "\n",
    "  # k is the number of clusters\n",
    "  for i in range(k):\n",
    "    # Convert numpy array to pandas DataFrame\n",
    "    data_df = pd.DataFrame(data)\n",
    "\n",
    "    # Choosing centroid randomly by choosing any value from every column for every feature\n",
    "    centroid = data_df.apply(lambda x: float(x.sample()))\n",
    "    centroids.append(centroid)\n",
    "  return pd.concat(centroids, axis=1)\n"
   ]
  },
  {
   "cell_type": "code",
   "execution_count": 169,
   "metadata": {},
   "outputs": [
    {
     "name": "stderr",
     "output_type": "stream",
     "text": [
      "C:\\Users\\marca\\AppData\\Local\\Temp\\ipykernel_15048\\3774144710.py:10: FutureWarning: Calling float on a single element Series is deprecated and will raise a TypeError in the future. Use float(ser.iloc[0]) instead\n",
      "  centroid = data_df.apply(lambda x: float(x.sample()))\n"
     ]
    },
    {
     "data": {
      "text/html": [
       "<div>\n",
       "<style scoped>\n",
       "    .dataframe tbody tr th:only-of-type {\n",
       "        vertical-align: middle;\n",
       "    }\n",
       "\n",
       "    .dataframe tbody tr th {\n",
       "        vertical-align: top;\n",
       "    }\n",
       "\n",
       "    .dataframe thead th {\n",
       "        text-align: right;\n",
       "    }\n",
       "</style>\n",
       "<table border=\"1\" class=\"dataframe\">\n",
       "  <thead>\n",
       "    <tr style=\"text-align: right;\">\n",
       "      <th></th>\n",
       "      <th>0</th>\n",
       "      <th>1</th>\n",
       "      <th>2</th>\n",
       "      <th>3</th>\n",
       "      <th>4</th>\n",
       "    </tr>\n",
       "  </thead>\n",
       "  <tbody>\n",
       "    <tr>\n",
       "      <th>0</th>\n",
       "      <td>0.002107</td>\n",
       "      <td>0.020039</td>\n",
       "      <td>0.015944</td>\n",
       "      <td>-0.01819</td>\n",
       "      <td>-0.041166</td>\n",
       "    </tr>\n",
       "  </tbody>\n",
       "</table>\n",
       "</div>"
      ],
      "text/plain": [
       "          0         1         2        3         4\n",
       "0  0.002107  0.020039  0.015944 -0.01819 -0.041166"
      ]
     },
     "execution_count": 169,
     "metadata": {},
     "output_type": "execute_result"
    }
   ],
   "source": [
    "# this specifies the number of centroids and hence the clusters which is 5, our user should be able to choose this\n",
    "centroids = random_centroids(data.values[0], 5)\n",
    "centroids\n",
    " # every column below is a centroid"
   ]
  },
  {
   "cell_type": "code",
   "execution_count": 170,
   "metadata": {},
   "outputs": [],
   "source": [
    "# label each data point how far it is from the centroid (each data point is one row in the data where each row in this case corresponds to a football player)\n",
    "\n",
    "# calculating the distance\n",
    "def get_labels(data, centroids):\n",
    "  distances = centroids.apply(lambda x: np.sqrt(((data - x) ** 2).sum(axis=0)))\n",
    "  # this would allow us to specify the index of the minimum value in every column\n",
    "  return distances.idxmin(axis=1)"
   ]
  },
  {
   "cell_type": "code",
   "execution_count": 174,
   "metadata": {},
   "outputs": [
    {
     "name": "stderr",
     "output_type": "stream",
     "text": [
      "C:\\Users\\marca\\AppData\\Local\\Temp\\ipykernel_15048\\226976455.py:7: FutureWarning: The behavior of DataFrame.idxmin with all-NA values, or any-NA and skipna=False, is deprecated. In a future version this will raise ValueError\n",
      "  return distances.idxmin(axis=1)\n"
     ]
    },
    {
     "data": {
      "text/plain": [
       "Series([], Name: count, dtype: int64)"
      ]
     },
     "execution_count": 174,
     "metadata": {},
     "output_type": "execute_result"
    }
   ],
   "source": [
    "labels = get_labels(data, centroids)\n",
    "labels.value_counts()\n",
    "\n",
    "# this specifies the nb of docs that belong to every cluster"
   ]
  },
  {
   "cell_type": "code",
   "execution_count": 175,
   "metadata": {},
   "outputs": [],
   "source": [
    "# update centroids\n",
    "\n",
    "def new_centroids(data, labels, k):\n",
    "  centroids = data.groupby(labels).apply(lambda x: np.exp(np.log(x).mean())).T\n",
    "  return centroids"
   ]
  },
  {
   "cell_type": "code",
   "execution_count": 179,
   "metadata": {},
   "outputs": [],
   "source": [
    "# PCA will allow us to plot the column values which are 5 and since we can only compare 2 columns then use PCA to convert them into 2\n",
    "from sklearn.decomposition import PCA\n",
    "\n",
    "# used for plotting\n",
    "import matplotlib.pyplot as plt\n",
    "\n",
    "from IPython.display import clear_output"
   ]
  },
  {
   "cell_type": "code",
   "execution_count": 180,
   "metadata": {},
   "outputs": [],
   "source": [
    "def plot_clusters(data, labels, centroids, iteration):\n",
    "  pca = PCA(n_components=2)\n",
    "  data_2d = pca.fit_transform(data)\n",
    "  centroids_2d = pca.transform(centroids.T)\n",
    "  clear_output(wait=True)\n",
    "  plt.title(f'Iteration {iteration}')\n",
    "  plt.scatter(x=data_2d[:,0], y=data_2d[:,1], c=labels)\n",
    "  plt.scatter(x=centroids_2d[:,0], y=centroids_2d[:,1])\n",
    "  plt.show()"
   ]
  },
  {
   "cell_type": "code",
   "execution_count": 192,
   "metadata": {},
   "outputs": [
    {
     "name": "stderr",
     "output_type": "stream",
     "text": [
      "C:\\Users\\marca\\AppData\\Local\\Temp\\ipykernel_15048\\3774144710.py:10: FutureWarning: Calling float on a single element Series is deprecated and will raise a TypeError in the future. Use float(ser.iloc[0]) instead\n",
      "  centroid = data_df.apply(lambda x: float(x.sample()))\n",
      "C:\\Users\\marca\\AppData\\Local\\Temp\\ipykernel_15048\\226976455.py:7: FutureWarning: The behavior of DataFrame.idxmin with all-NA values, or any-NA and skipna=False, is deprecated. In a future version this will raise ValueError\n",
      "  return distances.idxmin(axis=1)\n"
     ]
    },
    {
     "ename": "ValueError",
     "evalue": "Expected 2D array, got 1D array instead:\narray=[ 3.66494693e-02  4.76594567e-02 -2.40533929e-02 -1.60037410e-02\n  4.79045957e-02 -1.04359305e-02 -2.57404167e-02  2.88703721e-02\n  5.09783719e-03  3.98883000e-02 -2.84405984e-02  2.70141549e-02\n  2.07549874e-02 -3.59643251e-02  4.36660573e-02 -7.20235556e-02\n  4.89766849e-03  1.34032760e-02 -1.71087198e-02  1.44976638e-02\n -7.32050240e-02  1.70755014e-02 -3.75339040e-03  3.01953945e-02\n  2.15028524e-02 -1.85996462e-02  3.49211991e-02 -4.58520284e-04\n -1.92230977e-02 -2.55769771e-02 -3.29303890e-02  1.45264389e-03\n -1.23922073e-04  2.13750657e-02  1.93387928e-06 -1.92693602e-02\n  4.95787449e-02 -4.10898030e-02  4.01329366e-04 -2.85976604e-02\n -1.42284026e-02  8.13718364e-02 -6.19915724e-02 -1.34093473e-02\n -4.16529290e-02 -9.50599927e-03 -3.40168998e-02 -4.18234430e-02\n -1.69097632e-02  6.02173880e-02  5.36984764e-04 -2.82309689e-02\n  1.60576943e-02 -5.50219938e-02  5.18176332e-02  6.28703162e-02\n -1.23897912e-02  1.94378011e-02  7.54491538e-02  7.19061936e-05\n -1.81897730e-02 -6.64822815e-04 -2.79389787e-03 -8.61910824e-03\n  7.57290944e-02  1.96858998e-02 -4.11915816e-02 -6.57859221e-02\n  2.43405998e-02  1.47743262e-02  8.15311298e-02 -3.43483128e-02\n  1.71670169e-02  8.05869177e-02  1.27477245e-02 -7.35859200e-02\n -3.70185673e-02 -1.17554199e-02  2.25456636e-02 -3.97582874e-02\n  2.45830137e-02  5.78673519e-02  8.19273107e-03  1.53466398e-02\n  1.12428069e-01 -1.71809439e-02  2.24281326e-02 -1.50951315e-02\n  5.37276119e-02 -6.54861555e-02  6.11805357e-02 -4.43946160e-02\n  1.34521108e-02  4.43951562e-02 -2.42136931e-03 -5.77605981e-03\n -3.03957071e-02 -6.92976937e-02  4.29751575e-02 -1.55352689e-02\n -3.14817950e-02  1.19424214e-04 -2.07077526e-03  6.38865158e-02\n  2.85989102e-02 -6.08407073e-02 -1.13773542e-02 -3.44718955e-02\n  1.09206960e-02  3.92393619e-02  3.35683487e-03 -1.84634905e-02\n  1.54657662e-02 -1.18155871e-02  1.72797553e-02 -1.33370897e-02\n -2.86270548e-02  1.02039296e-02 -1.32544618e-02 -1.09058190e-02\n  1.59477128e-03 -2.87801158e-02 -2.30556587e-03 -3.65574798e-03\n  8.78964663e-02  2.44750828e-02 -6.87702522e-02  3.23234834e-02\n  1.10423462e-02 -7.20046693e-03  2.00323164e-02  1.95835903e-02\n -2.59921812e-02 -3.84403542e-02  5.44463843e-02 -4.98397909e-02\n  4.76000383e-02  1.11843832e-02  7.61791468e-02 -1.33755850e-02\n -2.05015969e-02 -4.58728187e-02 -4.38660756e-02  1.03586698e-02\n -3.45443119e-03  4.69972554e-04 -2.03312039e-02 -2.59088166e-02\n -4.13133502e-02  2.35485248e-02 -4.01741266e-03  1.51250372e-03\n  3.59578468e-02  4.20074537e-02  3.83063294e-02  5.89434467e-02\n  2.56134048e-02 -6.82872385e-02  4.57896329e-02 -4.06925566e-02\n  1.19421538e-03 -1.22341271e-02  1.98166985e-02  4.30679368e-03\n  2.56921612e-02 -1.44132311e-02  2.62386315e-02 -1.32033220e-02\n  1.08793834e-02  5.94534352e-03 -2.93787606e-02  3.82315461e-03\n  3.57630178e-02  3.35723497e-02 -2.78309174e-02  1.90277714e-02\n -1.07826330e-02  5.00002727e-02 -6.64015487e-02 -5.84999397e-02\n  4.93807532e-02 -3.40717211e-02  8.61279480e-03  5.15168756e-02\n  4.85334359e-02 -3.18523176e-04  5.20909876e-02 -3.92901711e-03\n -1.47582181e-02  5.07388227e-02 -5.86027978e-03  1.63921211e-02\n -1.72463991e-02  1.90482549e-02 -3.83333452e-02  2.08304394e-02\n  3.46012339e-02  1.22014768e-02  3.32384817e-02 -2.93850675e-02\n -8.77342839e-03 -1.30550480e-02  9.40731764e-02  2.33766809e-02\n  1.18644210e-02 -4.86113131e-02  1.22893527e-01 -3.93293845e-03\n  5.74470982e-02  1.73668414e-02 -6.86471835e-02 -3.63647798e-03\n -2.50406079e-02  3.51217277e-02  4.49201502e-02 -3.24619282e-03\n -1.35307657e-02 -2.04269662e-02 -8.75103250e-02  5.51691428e-02\n -8.43637343e-03  5.89125417e-02 -5.18000871e-03 -1.58134475e-02\n -2.72947997e-02  2.43360340e-03  1.48294366e-05 -6.05266495e-03\n  4.96700965e-02  8.64504054e-02 -1.22971693e-02  2.28623580e-02\n -9.44239926e-03  4.69068475e-02  5.13101183e-02 -1.49292243e-03\n  8.66194814e-03  6.70033842e-02  1.66954137e-02 -5.97014911e-02\n  7.07885204e-03  3.21731567e-02  4.73470613e-02 -2.87609780e-03\n  7.86799863e-02 -9.28407535e-03 -1.51206609e-02  4.85148877e-02\n -5.92923025e-03  1.12919053e-02 -1.80198643e-02  4.97774668e-02\n -2.13839058e-02  3.50415818e-02 -1.38269020e-02 -3.28618400e-02\n -1.36800380e-02  3.68002653e-02  8.98256525e-03 -3.92212905e-02\n  8.67805779e-02 -4.17276844e-02 -2.83450913e-02 -2.60529853e-02\n -3.03848390e-03 -4.46676873e-02  4.31503654e-02 -7.75191188e-02\n -1.66033637e-02 -2.49278080e-02 -3.27036567e-02 -1.10238288e-02\n -7.45236583e-04 -1.80146117e-02 -1.72283296e-02 -8.52264650e-03\n -9.81910154e-03  3.84187438e-02  2.02006195e-02 -3.76056805e-02\n -2.98886485e-02  7.45467003e-03 -1.77794148e-03  2.12737010e-03\n -1.70870554e-02 -1.89413391e-02  2.51045078e-02 -7.10818693e-02\n  6.17819689e-02 -7.25614652e-02 -7.15295970e-02 -3.60426493e-02\n -1.21598300e-02  2.47492529e-02 -1.31585887e-02  1.59184691e-02\n  4.70308550e-02  6.69941306e-02 -2.38795386e-04 -9.58464760e-03\n  5.79191148e-02  2.78814249e-02  4.70831320e-02  2.02628467e-02\n  1.46983489e-02  3.33784707e-02  6.77851122e-03 -1.44456644e-02\n -3.85285384e-04 -2.14153714e-02  5.78884855e-02 -5.71610918e-03\n  4.12925296e-02  4.91737984e-02 -3.97288539e-02 -3.50424647e-03\n  3.34662944e-03 -4.16614749e-02 -5.41768074e-02  2.23563127e-02\n  1.48251252e-02  4.48553078e-02  3.47530411e-04  4.99214604e-02\n  4.56135208e-03  4.08364739e-03 -9.32649616e-03 -2.13787109e-02\n  1.23317605e-02 -6.23999089e-02  2.37022750e-02  3.10144797e-02\n -2.63084397e-02 -2.06463058e-02  3.13666537e-02  2.69174064e-03\n -7.00758994e-02 -1.95700992e-02 -4.78537241e-03  1.81242116e-02\n -2.10200399e-02 -3.67653817e-02  1.52742453e-02  8.05537961e-03\n  6.98725693e-03  7.92332646e-03 -2.47787610e-02  1.63134690e-02\n  1.84492227e-02 -4.11663726e-02  2.10671779e-03 -6.18280191e-03\n  1.61461476e-02  1.28866518e-02  1.88250858e-02  2.24811565e-02\n -5.74471708e-03  2.36802511e-02 -4.94666658e-02  9.77240317e-03\n -5.75285926e-02 -2.51143761e-02  4.13733441e-03 -5.83607983e-03\n  4.07772474e-02  2.70494353e-02  7.56465457e-03  6.12206347e-02\n -1.05410665e-02  2.75375564e-02  1.70603991e-02 -5.38178626e-03\n  1.09610157e-02  2.44831983e-02  1.47045860e-02  2.13910174e-02\n  3.01091112e-02  4.39387970e-02 -1.85805857e-02 -1.74205471e-02\n  1.70466974e-02  2.98606921e-02  3.66441384e-02  2.78571807e-02\n  1.97373275e-02  5.96181825e-02  1.55896042e-02  5.10149961e-03\n  5.84817911e-03  2.63383444e-02  3.64455469e-02 -3.92935984e-03\n -4.33897693e-03 -7.17387069e-03 -3.57936658e-02  2.92073414e-02\n -5.88598708e-03  2.98753437e-02 -1.00720115e-02  1.49106691e-02\n -5.58267627e-03 -5.70049696e-02  7.95241352e-03  9.85754747e-03\n -8.23977869e-03  4.35865261e-02  6.22931421e-02  4.55355570e-02\n -2.22652461e-02 -7.08141923e-02 -6.16854988e-02 -8.41912348e-03\n  1.97699275e-02 -5.12728730e-05  1.27459061e-03  3.96839306e-02\n  1.05506834e-02 -3.62519175e-02  4.72436659e-02 -3.59620601e-02\n  2.02432070e-02  2.65421513e-02  1.36351343e-02  4.29269625e-03\n -2.95929182e-02 -2.67373361e-02  2.92190835e-02  1.44968862e-02\n -5.82137436e-04  1.13526806e-02  1.52733643e-02  6.86630458e-02\n  1.38882548e-02  2.92250011e-02 -3.87656465e-02 -7.94454515e-02\n -3.02524902e-02  1.88905443e-03 -7.32401237e-02 -9.10971593e-03\n -7.17196763e-02 -4.92470041e-02  4.56002280e-02  1.17087578e-02\n -1.84110496e-02 -3.79540399e-02 -1.96593460e-02 -7.35442117e-02\n -4.05453640e-04 -2.28314474e-03  4.03864793e-02  1.58167053e-02\n -9.58632082e-02 -5.08606024e-02  1.97643656e-02 -5.00280270e-03\n -3.54384929e-02 -7.69820437e-02  2.79148426e-02  1.54536059e-02\n  4.93553914e-02  2.93665063e-02  1.70671567e-02  7.68218376e-03\n -2.17469893e-02 -1.10499570e-02 -4.41815555e-02 -2.75089052e-02\n  2.85974201e-02 -1.85179673e-02 -5.09296618e-02  1.58122443e-02\n -4.39764187e-03 -2.10232046e-02 -9.47955437e-03  4.40673754e-02\n -1.80760510e-02  3.38417478e-02 -1.16968052e-02  1.40477940e-02\n  5.77831967e-03 -5.56483446e-03 -7.85161853e-02 -6.99935714e-03\n -3.10108927e-03 -4.50570062e-02 -1.48159061e-02 -5.92739379e-04\n  1.88209936e-02 -4.57612388e-02  5.71721494e-02  4.86968871e-04\n -3.36336382e-02 -8.50268872e-04  4.36087744e-03 -4.08066139e-02\n -5.63204736e-02  1.97908171e-02  1.51243778e-02  2.00913176e-02\n  3.57867107e-02  2.29052566e-02  2.62904353e-02  7.07837120e-02\n  1.12673463e-02  2.37510931e-02  3.57441530e-02 -1.84564013e-02\n  1.59435961e-02 -4.05254662e-02  9.44054779e-03  1.45712057e-02\n -5.34206955e-03 -2.64308844e-02 -3.51661220e-02 -2.57922616e-02\n  4.05459963e-02 -3.65932909e-04  1.45713538e-02  1.17346281e-02\n -3.11192591e-02 -2.27255560e-03  1.06217498e-02 -4.03184593e-02\n -5.58603108e-02 -3.52814458e-02  1.22821378e-02 -3.68584716e-03\n  1.27876038e-02  2.71966476e-02 -7.65383691e-02 -6.50488660e-02\n  4.28846367e-02  3.41250896e-02 -1.83416437e-02  2.66161207e-02\n -5.63097112e-02 -2.17858776e-02 -2.40496788e-02  6.59968853e-02\n -3.37564908e-02 -3.15664485e-02  1.89869795e-02 -2.22420879e-02\n  1.70921292e-02  1.87867954e-02  1.42881358e-02 -3.41365933e-02\n  2.41761636e-02  8.68011639e-03 -2.10672915e-02 -2.57387049e-02\n -9.31335762e-02 -2.66500060e-02 -1.73947532e-02 -6.66421763e-33\n -1.95476469e-02 -2.91321124e-03  1.46460645e-02  1.13593033e-02\n -9.49681774e-02 -2.00859439e-02 -9.42803398e-02  8.56136717e-03\n -4.54085395e-02 -2.64592143e-03 -9.43676941e-03  2.60048080e-03\n -7.84007646e-03 -1.69295911e-02  9.67626721e-02 -5.05208634e-02\n  1.20562312e-04 -2.12907838e-03 -5.55300564e-02  7.08368560e-03\n  2.83893961e-02 -1.95458322e-03  4.47604898e-03 -5.47858886e-02\n -1.58754108e-03 -6.77757198e-03  5.40427119e-03 -3.37971710e-02\n  7.71431113e-03 -6.32625446e-02 -4.40445691e-02 -7.31902011e-03\n  1.47025175e-02  1.10122655e-03  2.00393535e-02 -3.19292806e-02\n -5.58688119e-02 -3.20021482e-03 -9.04650893e-03  5.20410761e-02\n -4.05074842e-03  8.33525416e-03  1.50543414e-02 -5.89037873e-03\n -2.41545141e-02 -1.76914036e-02 -1.54490462e-02 -2.25671101e-02\n -6.95911329e-03 -1.13119543e-01 -5.08487932e-02 -1.47999581e-02\n -3.31416214e-03 -4.29096408e-02  4.10455279e-03 -2.26798169e-02\n -3.76216471e-02  3.38264368e-02 -2.92998198e-02  1.60322376e-02\n -1.08417580e-02  1.88035835e-02 -9.11982171e-03 -3.89211066e-02\n -1.78383738e-02  3.99785535e-03  5.08311726e-02 -2.07163133e-02\n -5.22615351e-02  4.40173224e-02 -2.07296684e-02  4.47477102e-02\n -3.01172175e-02 -3.05687971e-02 -1.15196789e-02 -7.46312588e-02\n  5.37610613e-02  2.72881649e-02  7.62987360e-02 -1.65750813e-02\n -5.25133759e-02  6.28715977e-02 -6.10589758e-02 -9.65304114e-03\n  6.59589544e-02  4.43512201e-02  1.08588615e-03  1.74504891e-02\n -1.82298254e-02 -4.52545397e-02  9.57510918e-02 -4.57746796e-02\n -3.15950513e-02 -2.14812476e-02 -2.83510424e-02 -5.70134027e-03\n  3.67695056e-02 -1.71972197e-02  1.72955804e-02 -4.76416275e-02\n  6.18424825e-03  2.79288609e-02  6.76274449e-02  5.10778353e-02\n  2.01157257e-02 -2.12711990e-02  2.01088637e-02  1.02937724e-02\n -3.34925167e-02 -3.72134857e-02  7.91020412e-03 -5.19505627e-02\n  8.83338675e-02 -1.75697114e-02  3.29339392e-02  2.95307487e-02\n  2.04125997e-02 -2.13264469e-02  2.66974811e-02  5.28323017e-02\n  1.12482943e-02  2.85030659e-02 -4.75129597e-02 -1.38668632e-02\n  3.43184476e-03  5.62505750e-03 -2.90966239e-02  3.67251644e-03\n -1.34949209e-02 -5.85662909e-02 -1.23482309e-02 -1.50050875e-02\n  2.97429722e-07 -5.12064509e-02  2.87301820e-02  4.70484002e-03\n -8.67168419e-03  5.28413542e-02 -1.07116541e-02 -1.20797522e-01\n  2.01923624e-02  1.45938864e-03  2.64727548e-02  8.41788948e-02\n -3.46456505e-02  7.96025991e-02  2.96998769e-02 -8.20019394e-02\n  4.15353570e-03 -1.01583377e-01 -3.27885188e-02 -5.54083623e-02\n -3.08378153e-02  4.11632704e-03  4.12670486e-02  9.21465177e-03\n -3.79200093e-02  9.21694969e-04  3.49514112e-02 -1.85512397e-02\n  2.53180843e-02  1.58862565e-02 -8.47914144e-02 -1.39923524e-02\n -5.20735187e-03 -1.54997678e-02 -6.38301224e-02 -4.44865003e-02\n  2.13273689e-02  4.90819514e-02 -1.74898393e-02 -5.31636365e-03\n  5.51311672e-02 -3.02235503e-02  7.03504309e-02  1.16481986e-02\n  1.55137340e-03  4.01722044e-02  6.18714653e-02 -5.95774017e-02\n -1.78978480e-02 -5.36970459e-02  3.32761221e-02  1.00538321e-02\n  2.97409650e-02 -9.76038724e-03 -1.46755464e-02 -2.25126231e-03\n -1.21000549e-02  5.89020215e-02 -2.56744176e-02  2.48736814e-02\n  2.90693268e-02 -1.25317965e-02 -3.07634398e-02  3.00081950e-02\n  2.20774021e-02  6.52566226e-03 -1.82686206e-02 -1.22627197e-02\n  2.36531205e-34  5.31163104e-02 -4.29215394e-02  1.49348658e-02\n -3.35164294e-02  2.18246155e-03 -2.08996180e-02  2.31801961e-02\n  1.88028952e-03  2.09098011e-02 -8.11052229e-03 -4.21939977e-02].\nReshape your data either using array.reshape(-1, 1) if your data has a single feature or array.reshape(1, -1) if it contains a single sample.",
     "output_type": "error",
     "traceback": [
      "\u001b[1;31m---------------------------------------------------------------------------\u001b[0m",
      "\u001b[1;31mValueError\u001b[0m                                Traceback (most recent call last)",
      "Cell \u001b[1;32mIn[192], line 15\u001b[0m\n\u001b[0;32m     13\u001b[0m labels \u001b[38;5;241m=\u001b[39m get_labels(data, centroids)\n\u001b[0;32m     14\u001b[0m centroids \u001b[38;5;241m=\u001b[39m new_centroids(data, labels, \u001b[38;5;241m3\u001b[39m)\n\u001b[1;32m---> 15\u001b[0m \u001b[43mplot_clusters\u001b[49m\u001b[43m(\u001b[49m\u001b[43mdata\u001b[49m\u001b[38;5;241;43m.\u001b[39;49m\u001b[43mvalues\u001b[49m\u001b[43m[\u001b[49m\u001b[38;5;241;43m0\u001b[39;49m\u001b[43m]\u001b[49m\u001b[43m,\u001b[49m\u001b[43m \u001b[49m\u001b[43mlabels\u001b[49m\u001b[43m,\u001b[49m\u001b[43m \u001b[49m\u001b[43mcentroids\u001b[49m\u001b[43m,\u001b[49m\u001b[43m \u001b[49m\u001b[43miteration\u001b[49m\u001b[43m)\u001b[49m\n\u001b[0;32m     16\u001b[0m iteration \u001b[38;5;241m+\u001b[39m\u001b[38;5;241m=\u001b[39m \u001b[38;5;241m1\u001b[39m\n",
      "Cell \u001b[1;32mIn[180], line 3\u001b[0m, in \u001b[0;36mplot_clusters\u001b[1;34m(data, labels, centroids, iteration)\u001b[0m\n\u001b[0;32m      1\u001b[0m \u001b[38;5;28;01mdef\u001b[39;00m \u001b[38;5;21mplot_clusters\u001b[39m(data, labels, centroids, iteration):\n\u001b[0;32m      2\u001b[0m   pca \u001b[38;5;241m=\u001b[39m PCA(n_components\u001b[38;5;241m=\u001b[39m\u001b[38;5;241m2\u001b[39m)\n\u001b[1;32m----> 3\u001b[0m   data_2d \u001b[38;5;241m=\u001b[39m \u001b[43mpca\u001b[49m\u001b[38;5;241;43m.\u001b[39;49m\u001b[43mfit_transform\u001b[49m\u001b[43m(\u001b[49m\u001b[43mdata\u001b[49m\u001b[43m)\u001b[49m\n\u001b[0;32m      4\u001b[0m   centroids_2d \u001b[38;5;241m=\u001b[39m pca\u001b[38;5;241m.\u001b[39mtransform(centroids\u001b[38;5;241m.\u001b[39mT)\n\u001b[0;32m      5\u001b[0m   clear_output(wait\u001b[38;5;241m=\u001b[39m\u001b[38;5;28;01mTrue\u001b[39;00m)\n",
      "File \u001b[1;32md:\\LAU\\Courses\\Year 4 5th Year\\Fall 2023\\COE 543 IDPA\\Project_1\\venv\\lib\\site-packages\\sklearn\\utils\\_set_output.py:157\u001b[0m, in \u001b[0;36m_wrap_method_output.<locals>.wrapped\u001b[1;34m(self, X, *args, **kwargs)\u001b[0m\n\u001b[0;32m    155\u001b[0m \u001b[38;5;129m@wraps\u001b[39m(f)\n\u001b[0;32m    156\u001b[0m \u001b[38;5;28;01mdef\u001b[39;00m \u001b[38;5;21mwrapped\u001b[39m(\u001b[38;5;28mself\u001b[39m, X, \u001b[38;5;241m*\u001b[39margs, \u001b[38;5;241m*\u001b[39m\u001b[38;5;241m*\u001b[39mkwargs):\n\u001b[1;32m--> 157\u001b[0m     data_to_wrap \u001b[38;5;241m=\u001b[39m f(\u001b[38;5;28mself\u001b[39m, X, \u001b[38;5;241m*\u001b[39margs, \u001b[38;5;241m*\u001b[39m\u001b[38;5;241m*\u001b[39mkwargs)\n\u001b[0;32m    158\u001b[0m     \u001b[38;5;28;01mif\u001b[39;00m \u001b[38;5;28misinstance\u001b[39m(data_to_wrap, \u001b[38;5;28mtuple\u001b[39m):\n\u001b[0;32m    159\u001b[0m         \u001b[38;5;66;03m# only wrap the first output for cross decomposition\u001b[39;00m\n\u001b[0;32m    160\u001b[0m         return_tuple \u001b[38;5;241m=\u001b[39m (\n\u001b[0;32m    161\u001b[0m             _wrap_data_with_container(method, data_to_wrap[\u001b[38;5;241m0\u001b[39m], X, \u001b[38;5;28mself\u001b[39m),\n\u001b[0;32m    162\u001b[0m             \u001b[38;5;241m*\u001b[39mdata_to_wrap[\u001b[38;5;241m1\u001b[39m:],\n\u001b[0;32m    163\u001b[0m         )\n",
      "File \u001b[1;32md:\\LAU\\Courses\\Year 4 5th Year\\Fall 2023\\COE 543 IDPA\\Project_1\\venv\\lib\\site-packages\\sklearn\\base.py:1152\u001b[0m, in \u001b[0;36m_fit_context.<locals>.decorator.<locals>.wrapper\u001b[1;34m(estimator, *args, **kwargs)\u001b[0m\n\u001b[0;32m   1145\u001b[0m     estimator\u001b[38;5;241m.\u001b[39m_validate_params()\n\u001b[0;32m   1147\u001b[0m \u001b[38;5;28;01mwith\u001b[39;00m config_context(\n\u001b[0;32m   1148\u001b[0m     skip_parameter_validation\u001b[38;5;241m=\u001b[39m(\n\u001b[0;32m   1149\u001b[0m         prefer_skip_nested_validation \u001b[38;5;129;01mor\u001b[39;00m global_skip_validation\n\u001b[0;32m   1150\u001b[0m     )\n\u001b[0;32m   1151\u001b[0m ):\n\u001b[1;32m-> 1152\u001b[0m     \u001b[38;5;28;01mreturn\u001b[39;00m fit_method(estimator, \u001b[38;5;241m*\u001b[39margs, \u001b[38;5;241m*\u001b[39m\u001b[38;5;241m*\u001b[39mkwargs)\n",
      "File \u001b[1;32md:\\LAU\\Courses\\Year 4 5th Year\\Fall 2023\\COE 543 IDPA\\Project_1\\venv\\lib\\site-packages\\sklearn\\decomposition\\_pca.py:460\u001b[0m, in \u001b[0;36mPCA.fit_transform\u001b[1;34m(self, X, y)\u001b[0m\n\u001b[0;32m    437\u001b[0m \u001b[38;5;129m@_fit_context\u001b[39m(prefer_skip_nested_validation\u001b[38;5;241m=\u001b[39m\u001b[38;5;28;01mTrue\u001b[39;00m)\n\u001b[0;32m    438\u001b[0m \u001b[38;5;28;01mdef\u001b[39;00m \u001b[38;5;21mfit_transform\u001b[39m(\u001b[38;5;28mself\u001b[39m, X, y\u001b[38;5;241m=\u001b[39m\u001b[38;5;28;01mNone\u001b[39;00m):\n\u001b[0;32m    439\u001b[0m \u001b[38;5;250m    \u001b[39m\u001b[38;5;124;03m\"\"\"Fit the model with X and apply the dimensionality reduction on X.\u001b[39;00m\n\u001b[0;32m    440\u001b[0m \n\u001b[0;32m    441\u001b[0m \u001b[38;5;124;03m    Parameters\u001b[39;00m\n\u001b[1;32m   (...)\u001b[0m\n\u001b[0;32m    458\u001b[0m \u001b[38;5;124;03m    C-ordered array, use 'np.ascontiguousarray'.\u001b[39;00m\n\u001b[0;32m    459\u001b[0m \u001b[38;5;124;03m    \"\"\"\u001b[39;00m\n\u001b[1;32m--> 460\u001b[0m     U, S, Vt \u001b[38;5;241m=\u001b[39m \u001b[38;5;28;43mself\u001b[39;49m\u001b[38;5;241;43m.\u001b[39;49m\u001b[43m_fit\u001b[49m\u001b[43m(\u001b[49m\u001b[43mX\u001b[49m\u001b[43m)\u001b[49m\n\u001b[0;32m    461\u001b[0m     U \u001b[38;5;241m=\u001b[39m U[:, : \u001b[38;5;28mself\u001b[39m\u001b[38;5;241m.\u001b[39mn_components_]\n\u001b[0;32m    463\u001b[0m     \u001b[38;5;28;01mif\u001b[39;00m \u001b[38;5;28mself\u001b[39m\u001b[38;5;241m.\u001b[39mwhiten:\n\u001b[0;32m    464\u001b[0m         \u001b[38;5;66;03m# X_new = X * V / S * sqrt(n_samples) = U * sqrt(n_samples)\u001b[39;00m\n",
      "File \u001b[1;32md:\\LAU\\Courses\\Year 4 5th Year\\Fall 2023\\COE 543 IDPA\\Project_1\\venv\\lib\\site-packages\\sklearn\\decomposition\\_pca.py:483\u001b[0m, in \u001b[0;36mPCA._fit\u001b[1;34m(self, X)\u001b[0m\n\u001b[0;32m    477\u001b[0m \u001b[38;5;28;01mif\u001b[39;00m issparse(X):\n\u001b[0;32m    478\u001b[0m     \u001b[38;5;28;01mraise\u001b[39;00m \u001b[38;5;167;01mTypeError\u001b[39;00m(\n\u001b[0;32m    479\u001b[0m         \u001b[38;5;124m\"\u001b[39m\u001b[38;5;124mPCA does not support sparse input. See \u001b[39m\u001b[38;5;124m\"\u001b[39m\n\u001b[0;32m    480\u001b[0m         \u001b[38;5;124m\"\u001b[39m\u001b[38;5;124mTruncatedSVD for a possible alternative.\u001b[39m\u001b[38;5;124m\"\u001b[39m\n\u001b[0;32m    481\u001b[0m     )\n\u001b[1;32m--> 483\u001b[0m X \u001b[38;5;241m=\u001b[39m \u001b[38;5;28;43mself\u001b[39;49m\u001b[38;5;241;43m.\u001b[39;49m\u001b[43m_validate_data\u001b[49m\u001b[43m(\u001b[49m\n\u001b[0;32m    484\u001b[0m \u001b[43m    \u001b[49m\u001b[43mX\u001b[49m\u001b[43m,\u001b[49m\u001b[43m \u001b[49m\u001b[43mdtype\u001b[49m\u001b[38;5;241;43m=\u001b[39;49m\u001b[43m[\u001b[49m\u001b[43mnp\u001b[49m\u001b[38;5;241;43m.\u001b[39;49m\u001b[43mfloat64\u001b[49m\u001b[43m,\u001b[49m\u001b[43m \u001b[49m\u001b[43mnp\u001b[49m\u001b[38;5;241;43m.\u001b[39;49m\u001b[43mfloat32\u001b[49m\u001b[43m]\u001b[49m\u001b[43m,\u001b[49m\u001b[43m \u001b[49m\u001b[43mensure_2d\u001b[49m\u001b[38;5;241;43m=\u001b[39;49m\u001b[38;5;28;43;01mTrue\u001b[39;49;00m\u001b[43m,\u001b[49m\u001b[43m \u001b[49m\u001b[43mcopy\u001b[49m\u001b[38;5;241;43m=\u001b[39;49m\u001b[38;5;28;43mself\u001b[39;49m\u001b[38;5;241;43m.\u001b[39;49m\u001b[43mcopy\u001b[49m\n\u001b[0;32m    485\u001b[0m \u001b[43m\u001b[49m\u001b[43m)\u001b[49m\n\u001b[0;32m    487\u001b[0m \u001b[38;5;66;03m# Handle n_components==None\u001b[39;00m\n\u001b[0;32m    488\u001b[0m \u001b[38;5;28;01mif\u001b[39;00m \u001b[38;5;28mself\u001b[39m\u001b[38;5;241m.\u001b[39mn_components \u001b[38;5;129;01mis\u001b[39;00m \u001b[38;5;28;01mNone\u001b[39;00m:\n",
      "File \u001b[1;32md:\\LAU\\Courses\\Year 4 5th Year\\Fall 2023\\COE 543 IDPA\\Project_1\\venv\\lib\\site-packages\\sklearn\\base.py:605\u001b[0m, in \u001b[0;36mBaseEstimator._validate_data\u001b[1;34m(self, X, y, reset, validate_separately, cast_to_ndarray, **check_params)\u001b[0m\n\u001b[0;32m    603\u001b[0m         out \u001b[38;5;241m=\u001b[39m X, y\n\u001b[0;32m    604\u001b[0m \u001b[38;5;28;01melif\u001b[39;00m \u001b[38;5;129;01mnot\u001b[39;00m no_val_X \u001b[38;5;129;01mand\u001b[39;00m no_val_y:\n\u001b[1;32m--> 605\u001b[0m     out \u001b[38;5;241m=\u001b[39m check_array(X, input_name\u001b[38;5;241m=\u001b[39m\u001b[38;5;124m\"\u001b[39m\u001b[38;5;124mX\u001b[39m\u001b[38;5;124m\"\u001b[39m, \u001b[38;5;241m*\u001b[39m\u001b[38;5;241m*\u001b[39mcheck_params)\n\u001b[0;32m    606\u001b[0m \u001b[38;5;28;01melif\u001b[39;00m no_val_X \u001b[38;5;129;01mand\u001b[39;00m \u001b[38;5;129;01mnot\u001b[39;00m no_val_y:\n\u001b[0;32m    607\u001b[0m     out \u001b[38;5;241m=\u001b[39m _check_y(y, \u001b[38;5;241m*\u001b[39m\u001b[38;5;241m*\u001b[39mcheck_params)\n",
      "File \u001b[1;32md:\\LAU\\Courses\\Year 4 5th Year\\Fall 2023\\COE 543 IDPA\\Project_1\\venv\\lib\\site-packages\\sklearn\\utils\\validation.py:938\u001b[0m, in \u001b[0;36mcheck_array\u001b[1;34m(array, accept_sparse, accept_large_sparse, dtype, order, copy, force_all_finite, ensure_2d, allow_nd, ensure_min_samples, ensure_min_features, estimator, input_name)\u001b[0m\n\u001b[0;32m    936\u001b[0m     \u001b[38;5;66;03m# If input is 1D raise error\u001b[39;00m\n\u001b[0;32m    937\u001b[0m     \u001b[38;5;28;01mif\u001b[39;00m array\u001b[38;5;241m.\u001b[39mndim \u001b[38;5;241m==\u001b[39m \u001b[38;5;241m1\u001b[39m:\n\u001b[1;32m--> 938\u001b[0m         \u001b[38;5;28;01mraise\u001b[39;00m \u001b[38;5;167;01mValueError\u001b[39;00m(\n\u001b[0;32m    939\u001b[0m             \u001b[38;5;124m\"\u001b[39m\u001b[38;5;124mExpected 2D array, got 1D array instead:\u001b[39m\u001b[38;5;130;01m\\n\u001b[39;00m\u001b[38;5;124marray=\u001b[39m\u001b[38;5;132;01m{}\u001b[39;00m\u001b[38;5;124m.\u001b[39m\u001b[38;5;130;01m\\n\u001b[39;00m\u001b[38;5;124m\"\u001b[39m\n\u001b[0;32m    940\u001b[0m             \u001b[38;5;124m\"\u001b[39m\u001b[38;5;124mReshape your data either using array.reshape(-1, 1) if \u001b[39m\u001b[38;5;124m\"\u001b[39m\n\u001b[0;32m    941\u001b[0m             \u001b[38;5;124m\"\u001b[39m\u001b[38;5;124myour data has a single feature or array.reshape(1, -1) \u001b[39m\u001b[38;5;124m\"\u001b[39m\n\u001b[0;32m    942\u001b[0m             \u001b[38;5;124m\"\u001b[39m\u001b[38;5;124mif it contains a single sample.\u001b[39m\u001b[38;5;124m\"\u001b[39m\u001b[38;5;241m.\u001b[39mformat(array)\n\u001b[0;32m    943\u001b[0m         )\n\u001b[0;32m    945\u001b[0m \u001b[38;5;28;01mif\u001b[39;00m dtype_numeric \u001b[38;5;129;01mand\u001b[39;00m \u001b[38;5;28mhasattr\u001b[39m(array\u001b[38;5;241m.\u001b[39mdtype, \u001b[38;5;124m\"\u001b[39m\u001b[38;5;124mkind\u001b[39m\u001b[38;5;124m\"\u001b[39m) \u001b[38;5;129;01mand\u001b[39;00m array\u001b[38;5;241m.\u001b[39mdtype\u001b[38;5;241m.\u001b[39mkind \u001b[38;5;129;01min\u001b[39;00m \u001b[38;5;124m\"\u001b[39m\u001b[38;5;124mUSV\u001b[39m\u001b[38;5;124m\"\u001b[39m:\n\u001b[0;32m    946\u001b[0m     \u001b[38;5;28;01mraise\u001b[39;00m \u001b[38;5;167;01mValueError\u001b[39;00m(\n\u001b[0;32m    947\u001b[0m         \u001b[38;5;124m\"\u001b[39m\u001b[38;5;124mdtype=\u001b[39m\u001b[38;5;124m'\u001b[39m\u001b[38;5;124mnumeric\u001b[39m\u001b[38;5;124m'\u001b[39m\u001b[38;5;124m is not compatible with arrays of bytes/strings.\u001b[39m\u001b[38;5;124m\"\u001b[39m\n\u001b[0;32m    948\u001b[0m         \u001b[38;5;124m\"\u001b[39m\u001b[38;5;124mConvert your data to numeric values explicitly instead.\u001b[39m\u001b[38;5;124m\"\u001b[39m\n\u001b[0;32m    949\u001b[0m     )\n",
      "\u001b[1;31mValueError\u001b[0m: Expected 2D array, got 1D array instead:\narray=[ 3.66494693e-02  4.76594567e-02 -2.40533929e-02 -1.60037410e-02\n  4.79045957e-02 -1.04359305e-02 -2.57404167e-02  2.88703721e-02\n  5.09783719e-03  3.98883000e-02 -2.84405984e-02  2.70141549e-02\n  2.07549874e-02 -3.59643251e-02  4.36660573e-02 -7.20235556e-02\n  4.89766849e-03  1.34032760e-02 -1.71087198e-02  1.44976638e-02\n -7.32050240e-02  1.70755014e-02 -3.75339040e-03  3.01953945e-02\n  2.15028524e-02 -1.85996462e-02  3.49211991e-02 -4.58520284e-04\n -1.92230977e-02 -2.55769771e-02 -3.29303890e-02  1.45264389e-03\n -1.23922073e-04  2.13750657e-02  1.93387928e-06 -1.92693602e-02\n  4.95787449e-02 -4.10898030e-02  4.01329366e-04 -2.85976604e-02\n -1.42284026e-02  8.13718364e-02 -6.19915724e-02 -1.34093473e-02\n -4.16529290e-02 -9.50599927e-03 -3.40168998e-02 -4.18234430e-02\n -1.69097632e-02  6.02173880e-02  5.36984764e-04 -2.82309689e-02\n  1.60576943e-02 -5.50219938e-02  5.18176332e-02  6.28703162e-02\n -1.23897912e-02  1.94378011e-02  7.54491538e-02  7.19061936e-05\n -1.81897730e-02 -6.64822815e-04 -2.79389787e-03 -8.61910824e-03\n  7.57290944e-02  1.96858998e-02 -4.11915816e-02 -6.57859221e-02\n  2.43405998e-02  1.47743262e-02  8.15311298e-02 -3.43483128e-02\n  1.71670169e-02  8.05869177e-02  1.27477245e-02 -7.35859200e-02\n -3.70185673e-02 -1.17554199e-02  2.25456636e-02 -3.97582874e-02\n  2.45830137e-02  5.78673519e-02  8.19273107e-03  1.53466398e-02\n  1.12428069e-01 -1.71809439e-02  2.24281326e-02 -1.50951315e-02\n  5.37276119e-02 -6.54861555e-02  6.11805357e-02 -4.43946160e-02\n  1.34521108e-02  4.43951562e-02 -2.42136931e-03 -5.77605981e-03\n -3.03957071e-02 -6.92976937e-02  4.29751575e-02 -1.55352689e-02\n -3.14817950e-02  1.19424214e-04 -2.07077526e-03  6.38865158e-02\n  2.85989102e-02 -6.08407073e-02 -1.13773542e-02 -3.44718955e-02\n  1.09206960e-02  3.92393619e-02  3.35683487e-03 -1.84634905e-02\n  1.54657662e-02 -1.18155871e-02  1.72797553e-02 -1.33370897e-02\n -2.86270548e-02  1.02039296e-02 -1.32544618e-02 -1.09058190e-02\n  1.59477128e-03 -2.87801158e-02 -2.30556587e-03 -3.65574798e-03\n  8.78964663e-02  2.44750828e-02 -6.87702522e-02  3.23234834e-02\n  1.10423462e-02 -7.20046693e-03  2.00323164e-02  1.95835903e-02\n -2.59921812e-02 -3.84403542e-02  5.44463843e-02 -4.98397909e-02\n  4.76000383e-02  1.11843832e-02  7.61791468e-02 -1.33755850e-02\n -2.05015969e-02 -4.58728187e-02 -4.38660756e-02  1.03586698e-02\n -3.45443119e-03  4.69972554e-04 -2.03312039e-02 -2.59088166e-02\n -4.13133502e-02  2.35485248e-02 -4.01741266e-03  1.51250372e-03\n  3.59578468e-02  4.20074537e-02  3.83063294e-02  5.89434467e-02\n  2.56134048e-02 -6.82872385e-02  4.57896329e-02 -4.06925566e-02\n  1.19421538e-03 -1.22341271e-02  1.98166985e-02  4.30679368e-03\n  2.56921612e-02 -1.44132311e-02  2.62386315e-02 -1.32033220e-02\n  1.08793834e-02  5.94534352e-03 -2.93787606e-02  3.82315461e-03\n  3.57630178e-02  3.35723497e-02 -2.78309174e-02  1.90277714e-02\n -1.07826330e-02  5.00002727e-02 -6.64015487e-02 -5.84999397e-02\n  4.93807532e-02 -3.40717211e-02  8.61279480e-03  5.15168756e-02\n  4.85334359e-02 -3.18523176e-04  5.20909876e-02 -3.92901711e-03\n -1.47582181e-02  5.07388227e-02 -5.86027978e-03  1.63921211e-02\n -1.72463991e-02  1.90482549e-02 -3.83333452e-02  2.08304394e-02\n  3.46012339e-02  1.22014768e-02  3.32384817e-02 -2.93850675e-02\n -8.77342839e-03 -1.30550480e-02  9.40731764e-02  2.33766809e-02\n  1.18644210e-02 -4.86113131e-02  1.22893527e-01 -3.93293845e-03\n  5.74470982e-02  1.73668414e-02 -6.86471835e-02 -3.63647798e-03\n -2.50406079e-02  3.51217277e-02  4.49201502e-02 -3.24619282e-03\n -1.35307657e-02 -2.04269662e-02 -8.75103250e-02  5.51691428e-02\n -8.43637343e-03  5.89125417e-02 -5.18000871e-03 -1.58134475e-02\n -2.72947997e-02  2.43360340e-03  1.48294366e-05 -6.05266495e-03\n  4.96700965e-02  8.64504054e-02 -1.22971693e-02  2.28623580e-02\n -9.44239926e-03  4.69068475e-02  5.13101183e-02 -1.49292243e-03\n  8.66194814e-03  6.70033842e-02  1.66954137e-02 -5.97014911e-02\n  7.07885204e-03  3.21731567e-02  4.73470613e-02 -2.87609780e-03\n  7.86799863e-02 -9.28407535e-03 -1.51206609e-02  4.85148877e-02\n -5.92923025e-03  1.12919053e-02 -1.80198643e-02  4.97774668e-02\n -2.13839058e-02  3.50415818e-02 -1.38269020e-02 -3.28618400e-02\n -1.36800380e-02  3.68002653e-02  8.98256525e-03 -3.92212905e-02\n  8.67805779e-02 -4.17276844e-02 -2.83450913e-02 -2.60529853e-02\n -3.03848390e-03 -4.46676873e-02  4.31503654e-02 -7.75191188e-02\n -1.66033637e-02 -2.49278080e-02 -3.27036567e-02 -1.10238288e-02\n -7.45236583e-04 -1.80146117e-02 -1.72283296e-02 -8.52264650e-03\n -9.81910154e-03  3.84187438e-02  2.02006195e-02 -3.76056805e-02\n -2.98886485e-02  7.45467003e-03 -1.77794148e-03  2.12737010e-03\n -1.70870554e-02 -1.89413391e-02  2.51045078e-02 -7.10818693e-02\n  6.17819689e-02 -7.25614652e-02 -7.15295970e-02 -3.60426493e-02\n -1.21598300e-02  2.47492529e-02 -1.31585887e-02  1.59184691e-02\n  4.70308550e-02  6.69941306e-02 -2.38795386e-04 -9.58464760e-03\n  5.79191148e-02  2.78814249e-02  4.70831320e-02  2.02628467e-02\n  1.46983489e-02  3.33784707e-02  6.77851122e-03 -1.44456644e-02\n -3.85285384e-04 -2.14153714e-02  5.78884855e-02 -5.71610918e-03\n  4.12925296e-02  4.91737984e-02 -3.97288539e-02 -3.50424647e-03\n  3.34662944e-03 -4.16614749e-02 -5.41768074e-02  2.23563127e-02\n  1.48251252e-02  4.48553078e-02  3.47530411e-04  4.99214604e-02\n  4.56135208e-03  4.08364739e-03 -9.32649616e-03 -2.13787109e-02\n  1.23317605e-02 -6.23999089e-02  2.37022750e-02  3.10144797e-02\n -2.63084397e-02 -2.06463058e-02  3.13666537e-02  2.69174064e-03\n -7.00758994e-02 -1.95700992e-02 -4.78537241e-03  1.81242116e-02\n -2.10200399e-02 -3.67653817e-02  1.52742453e-02  8.05537961e-03\n  6.98725693e-03  7.92332646e-03 -2.47787610e-02  1.63134690e-02\n  1.84492227e-02 -4.11663726e-02  2.10671779e-03 -6.18280191e-03\n  1.61461476e-02  1.28866518e-02  1.88250858e-02  2.24811565e-02\n -5.74471708e-03  2.36802511e-02 -4.94666658e-02  9.77240317e-03\n -5.75285926e-02 -2.51143761e-02  4.13733441e-03 -5.83607983e-03\n  4.07772474e-02  2.70494353e-02  7.56465457e-03  6.12206347e-02\n -1.05410665e-02  2.75375564e-02  1.70603991e-02 -5.38178626e-03\n  1.09610157e-02  2.44831983e-02  1.47045860e-02  2.13910174e-02\n  3.01091112e-02  4.39387970e-02 -1.85805857e-02 -1.74205471e-02\n  1.70466974e-02  2.98606921e-02  3.66441384e-02  2.78571807e-02\n  1.97373275e-02  5.96181825e-02  1.55896042e-02  5.10149961e-03\n  5.84817911e-03  2.63383444e-02  3.64455469e-02 -3.92935984e-03\n -4.33897693e-03 -7.17387069e-03 -3.57936658e-02  2.92073414e-02\n -5.88598708e-03  2.98753437e-02 -1.00720115e-02  1.49106691e-02\n -5.58267627e-03 -5.70049696e-02  7.95241352e-03  9.85754747e-03\n -8.23977869e-03  4.35865261e-02  6.22931421e-02  4.55355570e-02\n -2.22652461e-02 -7.08141923e-02 -6.16854988e-02 -8.41912348e-03\n  1.97699275e-02 -5.12728730e-05  1.27459061e-03  3.96839306e-02\n  1.05506834e-02 -3.62519175e-02  4.72436659e-02 -3.59620601e-02\n  2.02432070e-02  2.65421513e-02  1.36351343e-02  4.29269625e-03\n -2.95929182e-02 -2.67373361e-02  2.92190835e-02  1.44968862e-02\n -5.82137436e-04  1.13526806e-02  1.52733643e-02  6.86630458e-02\n  1.38882548e-02  2.92250011e-02 -3.87656465e-02 -7.94454515e-02\n -3.02524902e-02  1.88905443e-03 -7.32401237e-02 -9.10971593e-03\n -7.17196763e-02 -4.92470041e-02  4.56002280e-02  1.17087578e-02\n -1.84110496e-02 -3.79540399e-02 -1.96593460e-02 -7.35442117e-02\n -4.05453640e-04 -2.28314474e-03  4.03864793e-02  1.58167053e-02\n -9.58632082e-02 -5.08606024e-02  1.97643656e-02 -5.00280270e-03\n -3.54384929e-02 -7.69820437e-02  2.79148426e-02  1.54536059e-02\n  4.93553914e-02  2.93665063e-02  1.70671567e-02  7.68218376e-03\n -2.17469893e-02 -1.10499570e-02 -4.41815555e-02 -2.75089052e-02\n  2.85974201e-02 -1.85179673e-02 -5.09296618e-02  1.58122443e-02\n -4.39764187e-03 -2.10232046e-02 -9.47955437e-03  4.40673754e-02\n -1.80760510e-02  3.38417478e-02 -1.16968052e-02  1.40477940e-02\n  5.77831967e-03 -5.56483446e-03 -7.85161853e-02 -6.99935714e-03\n -3.10108927e-03 -4.50570062e-02 -1.48159061e-02 -5.92739379e-04\n  1.88209936e-02 -4.57612388e-02  5.71721494e-02  4.86968871e-04\n -3.36336382e-02 -8.50268872e-04  4.36087744e-03 -4.08066139e-02\n -5.63204736e-02  1.97908171e-02  1.51243778e-02  2.00913176e-02\n  3.57867107e-02  2.29052566e-02  2.62904353e-02  7.07837120e-02\n  1.12673463e-02  2.37510931e-02  3.57441530e-02 -1.84564013e-02\n  1.59435961e-02 -4.05254662e-02  9.44054779e-03  1.45712057e-02\n -5.34206955e-03 -2.64308844e-02 -3.51661220e-02 -2.57922616e-02\n  4.05459963e-02 -3.65932909e-04  1.45713538e-02  1.17346281e-02\n -3.11192591e-02 -2.27255560e-03  1.06217498e-02 -4.03184593e-02\n -5.58603108e-02 -3.52814458e-02  1.22821378e-02 -3.68584716e-03\n  1.27876038e-02  2.71966476e-02 -7.65383691e-02 -6.50488660e-02\n  4.28846367e-02  3.41250896e-02 -1.83416437e-02  2.66161207e-02\n -5.63097112e-02 -2.17858776e-02 -2.40496788e-02  6.59968853e-02\n -3.37564908e-02 -3.15664485e-02  1.89869795e-02 -2.22420879e-02\n  1.70921292e-02  1.87867954e-02  1.42881358e-02 -3.41365933e-02\n  2.41761636e-02  8.68011639e-03 -2.10672915e-02 -2.57387049e-02\n -9.31335762e-02 -2.66500060e-02 -1.73947532e-02 -6.66421763e-33\n -1.95476469e-02 -2.91321124e-03  1.46460645e-02  1.13593033e-02\n -9.49681774e-02 -2.00859439e-02 -9.42803398e-02  8.56136717e-03\n -4.54085395e-02 -2.64592143e-03 -9.43676941e-03  2.60048080e-03\n -7.84007646e-03 -1.69295911e-02  9.67626721e-02 -5.05208634e-02\n  1.20562312e-04 -2.12907838e-03 -5.55300564e-02  7.08368560e-03\n  2.83893961e-02 -1.95458322e-03  4.47604898e-03 -5.47858886e-02\n -1.58754108e-03 -6.77757198e-03  5.40427119e-03 -3.37971710e-02\n  7.71431113e-03 -6.32625446e-02 -4.40445691e-02 -7.31902011e-03\n  1.47025175e-02  1.10122655e-03  2.00393535e-02 -3.19292806e-02\n -5.58688119e-02 -3.20021482e-03 -9.04650893e-03  5.20410761e-02\n -4.05074842e-03  8.33525416e-03  1.50543414e-02 -5.89037873e-03\n -2.41545141e-02 -1.76914036e-02 -1.54490462e-02 -2.25671101e-02\n -6.95911329e-03 -1.13119543e-01 -5.08487932e-02 -1.47999581e-02\n -3.31416214e-03 -4.29096408e-02  4.10455279e-03 -2.26798169e-02\n -3.76216471e-02  3.38264368e-02 -2.92998198e-02  1.60322376e-02\n -1.08417580e-02  1.88035835e-02 -9.11982171e-03 -3.89211066e-02\n -1.78383738e-02  3.99785535e-03  5.08311726e-02 -2.07163133e-02\n -5.22615351e-02  4.40173224e-02 -2.07296684e-02  4.47477102e-02\n -3.01172175e-02 -3.05687971e-02 -1.15196789e-02 -7.46312588e-02\n  5.37610613e-02  2.72881649e-02  7.62987360e-02 -1.65750813e-02\n -5.25133759e-02  6.28715977e-02 -6.10589758e-02 -9.65304114e-03\n  6.59589544e-02  4.43512201e-02  1.08588615e-03  1.74504891e-02\n -1.82298254e-02 -4.52545397e-02  9.57510918e-02 -4.57746796e-02\n -3.15950513e-02 -2.14812476e-02 -2.83510424e-02 -5.70134027e-03\n  3.67695056e-02 -1.71972197e-02  1.72955804e-02 -4.76416275e-02\n  6.18424825e-03  2.79288609e-02  6.76274449e-02  5.10778353e-02\n  2.01157257e-02 -2.12711990e-02  2.01088637e-02  1.02937724e-02\n -3.34925167e-02 -3.72134857e-02  7.91020412e-03 -5.19505627e-02\n  8.83338675e-02 -1.75697114e-02  3.29339392e-02  2.95307487e-02\n  2.04125997e-02 -2.13264469e-02  2.66974811e-02  5.28323017e-02\n  1.12482943e-02  2.85030659e-02 -4.75129597e-02 -1.38668632e-02\n  3.43184476e-03  5.62505750e-03 -2.90966239e-02  3.67251644e-03\n -1.34949209e-02 -5.85662909e-02 -1.23482309e-02 -1.50050875e-02\n  2.97429722e-07 -5.12064509e-02  2.87301820e-02  4.70484002e-03\n -8.67168419e-03  5.28413542e-02 -1.07116541e-02 -1.20797522e-01\n  2.01923624e-02  1.45938864e-03  2.64727548e-02  8.41788948e-02\n -3.46456505e-02  7.96025991e-02  2.96998769e-02 -8.20019394e-02\n  4.15353570e-03 -1.01583377e-01 -3.27885188e-02 -5.54083623e-02\n -3.08378153e-02  4.11632704e-03  4.12670486e-02  9.21465177e-03\n -3.79200093e-02  9.21694969e-04  3.49514112e-02 -1.85512397e-02\n  2.53180843e-02  1.58862565e-02 -8.47914144e-02 -1.39923524e-02\n -5.20735187e-03 -1.54997678e-02 -6.38301224e-02 -4.44865003e-02\n  2.13273689e-02  4.90819514e-02 -1.74898393e-02 -5.31636365e-03\n  5.51311672e-02 -3.02235503e-02  7.03504309e-02  1.16481986e-02\n  1.55137340e-03  4.01722044e-02  6.18714653e-02 -5.95774017e-02\n -1.78978480e-02 -5.36970459e-02  3.32761221e-02  1.00538321e-02\n  2.97409650e-02 -9.76038724e-03 -1.46755464e-02 -2.25126231e-03\n -1.21000549e-02  5.89020215e-02 -2.56744176e-02  2.48736814e-02\n  2.90693268e-02 -1.25317965e-02 -3.07634398e-02  3.00081950e-02\n  2.20774021e-02  6.52566226e-03 -1.82686206e-02 -1.22627197e-02\n  2.36531205e-34  5.31163104e-02 -4.29215394e-02  1.49348658e-02\n -3.35164294e-02  2.18246155e-03 -2.08996180e-02  2.31801961e-02\n  1.88028952e-03  2.09098011e-02 -8.11052229e-03 -4.21939977e-02].\nReshape your data either using array.reshape(-1, 1) if your data has a single feature or array.reshape(1, -1) if it contains a single sample."
     ]
    }
   ],
   "source": [
    "# these values should be inputted by user\n",
    "\n",
    "max_iterations = 100 #max number of repititions\n",
    "centroid_count = 3\n",
    "\n",
    "centroids = random_centroids(data.values[0], centroid_count)\n",
    "old_centroids = pd.DataFrame()\n",
    "iteration = 1\n",
    "\n",
    "while iteration < max_iterations and not centroids.equals(old_centroids):\n",
    "    old_centroids = centroids\n",
    "\n",
    "    labels = get_labels(data, centroids)\n",
    "    centroids = new_centroids(data, labels, 3)\n",
    "    plot_clusters(data.values[0], labels, centroids, iteration)\n",
    "    iteration += 1\n"
   ]
  },
  {
   "cell_type": "markdown",
   "metadata": {},
   "source": [
    "## Create new index in ElasticSearch"
   ]
  },
  {
   "cell_type": "code",
   "execution_count": null,
   "metadata": {},
   "outputs": [
    {
     "data": {
      "text/plain": [
       "True"
      ]
     },
     "execution_count": 100,
     "metadata": {},
     "output_type": "execute_result"
    }
   ],
   "source": [
    "es.ping()"
   ]
  },
  {
   "cell_type": "code",
   "execution_count": null,
   "metadata": {},
   "outputs": [
    {
     "data": {
      "text/plain": [
       "ObjectApiResponse({'acknowledged': True})"
      ]
     },
     "execution_count": 101,
     "metadata": {},
     "output_type": "execute_result"
    }
   ],
   "source": [
    "es.indices.delete(index=\"all_content\")"
   ]
  },
  {
   "cell_type": "code",
   "execution_count": null,
   "metadata": {},
   "outputs": [
    {
     "data": {
      "text/plain": [
       "ObjectApiResponse({'acknowledged': True, 'shards_acknowledged': True, 'index': 'all_content'})"
      ]
     },
     "execution_count": 102,
     "metadata": {},
     "output_type": "execute_result"
    }
   ],
   "source": [
    "from indexMappingFinal import indexMapping\n",
    "es.indices.create(index=\"all_content\", mappings=indexMapping)"
   ]
  },
  {
   "cell_type": "markdown",
   "metadata": {},
   "source": [
    "## Ingest the data into index"
   ]
  },
  {
   "cell_type": "code",
   "execution_count": null,
   "metadata": {},
   "outputs": [
    {
     "name": "stderr",
     "output_type": "stream",
     "text": [
      "C:\\Users\\marca\\AppData\\Local\\Temp\\ipykernel_11012\\3777244692.py:1: FutureWarning: Setting an item of incompatible dtype is deprecated and will raise in a future error of pandas. Value 'None' has dtype incompatible with float64, please explicitly cast to a compatible dtype first.\n",
      "  df.fillna(\"None\", inplace=True)\n"
     ]
    }
   ],
   "source": [
    "df.fillna(\"None\", inplace=True)"
   ]
  },
  {
   "cell_type": "code",
   "execution_count": null,
   "metadata": {},
   "outputs": [
    {
     "data": {
      "text/plain": [
       "Unnamed: 0  content  title  title_article  Date   stemmed_text  stemmed_string  ContentVector\n",
       "False       False    False  False          False  False         False           False            147\n",
       "Name: count, dtype: int64"
      ]
     },
     "execution_count": 104,
     "metadata": {},
     "output_type": "execute_result"
    }
   ],
   "source": [
    "df.isna().value_counts()"
   ]
  },
  {
   "cell_type": "code",
   "execution_count": null,
   "metadata": {},
   "outputs": [],
   "source": [
    "record_list = df.to_dict(\"records\")"
   ]
  },
  {
   "cell_type": "code",
   "execution_count": null,
   "metadata": {},
   "outputs": [],
   "source": [
    "for record in record_list:\n",
    "    try:\n",
    "        es.index(index=\"all_content\", document=record, id=record[\"Unnamed: 0\"])\n",
    "    except Exception as e:\n",
    "        print(e)"
   ]
  },
  {
   "cell_type": "code",
   "execution_count": null,
   "metadata": {},
   "outputs": [
    {
     "data": {
      "text/plain": [
       "ObjectApiResponse({'count': 63, '_shards': {'total': 1, 'successful': 1, 'skipped': 0, 'failed': 0}})"
      ]
     },
     "execution_count": 107,
     "metadata": {},
     "output_type": "execute_result"
    }
   ],
   "source": [
    "es.count(index=\"all_content\")"
   ]
  },
  {
   "cell_type": "markdown",
   "metadata": {},
   "source": [
    "## Search the data"
   ]
  },
  {
   "cell_type": "code",
   "execution_count": null,
   "metadata": {},
   "outputs": [
    {
     "name": "stderr",
     "output_type": "stream",
     "text": [
      "C:\\Users\\marca\\AppData\\Local\\Temp\\ipykernel_11012\\162939045.py:11: ElasticsearchWarning: The kNN search API has been replaced by the `knn` option in the search API.\n",
      "  res = es.knn_search(index=\"all_content\", knn=query, source=[\"title_article\", \"title\", \"content\"])\n"
     ]
    },
    {
     "data": {
      "text/plain": [
       "[{'_index': 'all_content',\n",
       "  '_id': '52',\n",
       "  '_score': 0.64882183,\n",
       "  '_source': {'content': 'NIH and the John F. Kennedy Center for the Performing Arts, in association with the National Endowment for the Arts, are sponsoring an initiative called Sound Health to increase understanding of music’s effect on the brain and the potential clinical applications. The first Sound Health research projects began in 2019. Some projects are investigating music’s mechanism of action in the brain and how music may be applied to treat symptoms of disorders such as Parkinson’s disease, stroke, and chronic pain. Others are looking at the effects of music on children’s developing brains.',\n",
       "   'title': 'Tinnitus',\n",
       "   'title_article': 'Music and Health: What You Need To Know'}},\n",
       " {'_index': 'all_content',\n",
       "  '_id': '19',\n",
       "  '_score': 0.62343204,\n",
       "  '_source': {'content': 'Music literally changes the brain. Neurological researchers have found that listening to music triggers the release of several neurochemicals that play a role in brain function and mental health:',\n",
       "   'title': 'It can help treat mental illness',\n",
       "   'title_article': 'The Benefits of Listening to Music'}},\n",
       " {'_index': 'all_content',\n",
       "  '_id': '23',\n",
       "  '_score': 0.5820993,\n",
       "  '_source': {'content': 'Although more research needs to be done to understand precisely how music can be used therapeutically to treat mental illness, some studiesTrusted Source suggest that music therapy can improve the quality of life and social connectedness for people with schizophrenia.',\n",
       "   'title': 'stress hormones like cortisol',\n",
       "   'title_article': 'The Benefits of Listening to Music'}},\n",
       " {'_index': 'all_content',\n",
       "  '_id': '44',\n",
       "  '_score': 0.57792246,\n",
       "  '_source': {'content': 'Music exerts a powerful influence on human beings. It can boost memory, build task endurance, lighten your mood, reduce anxiety and depression, stave off fatigue, improve your response to pain, and help you work out more effectively.',\n",
       "   'title': 'The takeaway',\n",
       "   'title_article': 'The Benefits of Listening to Music'}},\n",
       " {'_index': 'all_content',\n",
       "  '_id': '45',\n",
       "  '_score': 0.5700512,\n",
       "  '_source': {'content': 'In a 2020 review with 104 studies (9,617 participants), investigators looked at the effects of a variety of music-based interventions on measures associated with stress, including both physical measures (heart rate, blood pressure, and levels of stress-related hormones) and psychological measures (anxiety, nervousness, restlessness, and feelings of worry). The music-based interventions had a small-to-medium sized beneficial effect on the physical measures and a medium-to-large beneficial effect on the psychological measures. ',\n",
       "   'title': 'Stress',\n",
       "   'title_article': 'Music and Health: What You Need To Know'}},\n",
       " {'_index': 'all_content',\n",
       "  '_id': '30',\n",
       "  '_score': 0.5575215,\n",
       "  '_source': {'content': 'One recent studyTrusted Source that measured several indicators of stress (not just cortisol) concluded that while listening to music before a stressful event doesn’t reduce anxiety, listening to relaxing music after a stressful event can help your nervous system recover faster.',\n",
       "   'title': 'It can help lower anxiety',\n",
       "   'title_article': 'The Benefits of Listening to Music'}},\n",
       " {'_index': 'all_content',\n",
       "  '_id': '36',\n",
       "  '_score': 0.54663175,\n",
       "  '_source': {'content': 'In 2015, researchersTrusted Source at Shanghai University found that relaxing music helped reduce fatigue and maintain muscle endurance when people were engaged in a repetitive task.',\n",
       "   'title': 'It decreases fatigue',\n",
       "   'title_article': 'The Benefits of Listening to Music'}},\n",
       " {'_index': 'all_content',\n",
       "  '_id': '29',\n",
       "  '_score': 0.5443749,\n",
       "  '_source': {'content': 'There’s conflicting evidence about whether listening to music has an effect on your body’s physiological stress response, however. One studyTrusted Source indicated that the body releases less cortisol, a stress hormone, when people listen to music. This same study referenced previous research stating that music had little measurable effect on cortisol levels.',\n",
       "   'title': 'It can help lower anxiety',\n",
       "   'title_article': 'The Benefits of Listening to Music'}},\n",
       " {'_index': 'all_content',\n",
       "  '_id': '46',\n",
       "  '_score': 0.5436923,\n",
       "  '_source': {'content': 'A second review looked at 47 studies (2,747 participants) of music therapy (excluding other music-based interventions) and found an overall medium-to-large beneficial effect on stress-related outcomes. The effects were greater than those seen in the larger review. The investigators who performed the review suggested that the opportunity for music therapists to tailor interventions to the needs of individual patients might account for the difference.',\n",
       "   'title': 'Stress',\n",
       "   'title_article': 'Music and Health: What You Need To Know'}},\n",
       " {'_index': 'all_content',\n",
       "  '_id': '47',\n",
       "  '_score': 0.54063725,\n",
       "  '_source': {'content': 'Music-based interventions may be helpful in the rehabilitation of people who have had a stroke. A 2019 review of 27 studies (730 participants) found positive effects on physical status (upper-limb activity, various aspects of walking, balance), cognition (paying attention, communication), and mood. In particular, rhythmic auditory stimulation (which involves the use of a metronome combined with physical activities) had beneficial effects on gait and balance, and receptive music therapy (which involves listening to music while performing another task) was helpful for mood and some aspects of cognitive function.',\n",
       "   'title': 'Stroke',\n",
       "   'title_article': 'Music and Health: What You Need To Know'}}]"
      ]
     },
     "execution_count": 108,
     "metadata": {},
     "output_type": "execute_result"
    }
   ],
   "source": [
    "input_keyword = \"How does music impact the brain?\"\n",
    "vector_of_input_keyword = model.encode(input_keyword)\n",
    "\n",
    "query = {\n",
    "    \"field\" : \"ContentVector\",\n",
    "    \"query_vector\" : vector_of_input_keyword,\n",
    "    \"k\" : 10,\n",
    "    \"num_candidates\" : 10000,\n",
    "}\n",
    "\n",
    "res = es.knn_search(index=\"all_content\", knn=query, source=[\"title_article\", \"title\", \"content\"])\n",
    "res[\"hits\"][\"hits\"]"
   ]
  }
 ],
 "metadata": {
  "kernelspec": {
   "display_name": "venv",
   "language": "python",
   "name": "python3"
  },
  "language_info": {
   "codemirror_mode": {
    "name": "ipython",
    "version": 3
   },
   "file_extension": ".py",
   "mimetype": "text/x-python",
   "name": "python",
   "nbconvert_exporter": "python",
   "pygments_lexer": "ipython3",
   "version": "3.10.6"
  },
  "orig_nbformat": 4
 },
 "nbformat": 4,
 "nbformat_minor": 2
}
